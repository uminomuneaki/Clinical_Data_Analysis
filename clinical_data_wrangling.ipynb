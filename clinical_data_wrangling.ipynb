{
 "cells": [
  {
   "cell_type": "markdown",
   "metadata": {},
   "source": [
    "## Gather"
   ]
  },
  {
   "cell_type": "code",
   "execution_count": 100,
   "metadata": {},
   "outputs": [],
   "source": [
    "import pandas as pd\n",
    "import numpy as np\n",
    "import matplotlib.pyplot as plt\n",
    "import seaborn as sns\n",
    "%matplotlib inline\n",
    "sns.set()"
   ]
  },
  {
   "cell_type": "code",
   "execution_count": 2,
   "metadata": {},
   "outputs": [],
   "source": [
    "patients = pd.read_csv('patients.csv')\n",
    "treatments = pd.read_csv('treatments.csv')\n",
    "adverse_reactions = pd.read_csv('adverse_reactions.csv')"
   ]
  },
  {
   "cell_type": "markdown",
   "metadata": {},
   "source": [
    "## Assess"
   ]
  },
  {
   "cell_type": "code",
   "execution_count": 3,
   "metadata": {},
   "outputs": [
    {
     "data": {
      "text/html": [
       "<div>\n",
       "<style scoped>\n",
       "    .dataframe tbody tr th:only-of-type {\n",
       "        vertical-align: middle;\n",
       "    }\n",
       "\n",
       "    .dataframe tbody tr th {\n",
       "        vertical-align: top;\n",
       "    }\n",
       "\n",
       "    .dataframe thead th {\n",
       "        text-align: right;\n",
       "    }\n",
       "</style>\n",
       "<table border=\"1\" class=\"dataframe\">\n",
       "  <thead>\n",
       "    <tr style=\"text-align: right;\">\n",
       "      <th></th>\n",
       "      <th>patient_id</th>\n",
       "      <th>assigned_sex</th>\n",
       "      <th>given_name</th>\n",
       "      <th>surname</th>\n",
       "      <th>address</th>\n",
       "      <th>city</th>\n",
       "      <th>state</th>\n",
       "      <th>zip_code</th>\n",
       "      <th>country</th>\n",
       "      <th>contact</th>\n",
       "      <th>birthdate</th>\n",
       "      <th>weight</th>\n",
       "      <th>height</th>\n",
       "      <th>bmi</th>\n",
       "    </tr>\n",
       "  </thead>\n",
       "  <tbody>\n",
       "    <tr>\n",
       "      <th>0</th>\n",
       "      <td>1</td>\n",
       "      <td>female</td>\n",
       "      <td>Zoe</td>\n",
       "      <td>Wellish</td>\n",
       "      <td>576 Brown Bear Drive</td>\n",
       "      <td>Rancho California</td>\n",
       "      <td>California</td>\n",
       "      <td>92390.0</td>\n",
       "      <td>United States</td>\n",
       "      <td>951-719-9170ZoeWellish@superrito.com</td>\n",
       "      <td>7/10/1976</td>\n",
       "      <td>121.7</td>\n",
       "      <td>66</td>\n",
       "      <td>19.6</td>\n",
       "    </tr>\n",
       "  </tbody>\n",
       "</table>\n",
       "</div>"
      ],
      "text/plain": [
       "   patient_id assigned_sex given_name  surname               address  \\\n",
       "0           1       female        Zoe  Wellish  576 Brown Bear Drive   \n",
       "\n",
       "                city       state  zip_code        country  \\\n",
       "0  Rancho California  California   92390.0  United States   \n",
       "\n",
       "                                contact  birthdate  weight  height   bmi  \n",
       "0  951-719-9170ZoeWellish@superrito.com  7/10/1976   121.7      66  19.6  "
      ]
     },
     "execution_count": 3,
     "metadata": {},
     "output_type": "execute_result"
    }
   ],
   "source": [
    "patients.head(1)"
   ]
  },
  {
   "cell_type": "code",
   "execution_count": 4,
   "metadata": {},
   "outputs": [
    {
     "name": "stdout",
     "output_type": "stream",
     "text": [
      "<class 'pandas.core.frame.DataFrame'>\n",
      "RangeIndex: 503 entries, 0 to 502\n",
      "Data columns (total 14 columns):\n",
      " #   Column        Non-Null Count  Dtype  \n",
      "---  ------        --------------  -----  \n",
      " 0   patient_id    503 non-null    int64  \n",
      " 1   assigned_sex  503 non-null    object \n",
      " 2   given_name    503 non-null    object \n",
      " 3   surname       503 non-null    object \n",
      " 4   address       491 non-null    object \n",
      " 5   city          491 non-null    object \n",
      " 6   state         491 non-null    object \n",
      " 7   zip_code      491 non-null    float64\n",
      " 8   country       491 non-null    object \n",
      " 9   contact       491 non-null    object \n",
      " 10  birthdate     503 non-null    object \n",
      " 11  weight        503 non-null    float64\n",
      " 12  height        503 non-null    int64  \n",
      " 13  bmi           503 non-null    float64\n",
      "dtypes: float64(3), int64(2), object(9)\n",
      "memory usage: 55.1+ KB\n"
     ]
    }
   ],
   "source": [
    "patients.info()"
   ]
  },
  {
   "cell_type": "code",
   "execution_count": 5,
   "metadata": {},
   "outputs": [
    {
     "data": {
      "text/html": [
       "<div>\n",
       "<style scoped>\n",
       "    .dataframe tbody tr th:only-of-type {\n",
       "        vertical-align: middle;\n",
       "    }\n",
       "\n",
       "    .dataframe tbody tr th {\n",
       "        vertical-align: top;\n",
       "    }\n",
       "\n",
       "    .dataframe thead th {\n",
       "        text-align: right;\n",
       "    }\n",
       "</style>\n",
       "<table border=\"1\" class=\"dataframe\">\n",
       "  <thead>\n",
       "    <tr style=\"text-align: right;\">\n",
       "      <th></th>\n",
       "      <th>given_name</th>\n",
       "      <th>surname</th>\n",
       "      <th>auralin</th>\n",
       "      <th>novodra</th>\n",
       "      <th>hba1c_start</th>\n",
       "      <th>hba1c_end</th>\n",
       "      <th>hba1c_change</th>\n",
       "    </tr>\n",
       "  </thead>\n",
       "  <tbody>\n",
       "    <tr>\n",
       "      <th>0</th>\n",
       "      <td>veronika</td>\n",
       "      <td>jindrová</td>\n",
       "      <td>41u - 48u</td>\n",
       "      <td>-</td>\n",
       "      <td>7.63</td>\n",
       "      <td>7.2</td>\n",
       "      <td>NaN</td>\n",
       "    </tr>\n",
       "  </tbody>\n",
       "</table>\n",
       "</div>"
      ],
      "text/plain": [
       "  given_name   surname    auralin novodra  hba1c_start  hba1c_end  \\\n",
       "0   veronika  jindrová  41u - 48u       -         7.63        7.2   \n",
       "\n",
       "   hba1c_change  \n",
       "0           NaN  "
      ]
     },
     "execution_count": 5,
     "metadata": {},
     "output_type": "execute_result"
    }
   ],
   "source": [
    "treatments.head(1)"
   ]
  },
  {
   "cell_type": "code",
   "execution_count": 6,
   "metadata": {},
   "outputs": [
    {
     "name": "stdout",
     "output_type": "stream",
     "text": [
      "<class 'pandas.core.frame.DataFrame'>\n",
      "RangeIndex: 280 entries, 0 to 279\n",
      "Data columns (total 7 columns):\n",
      " #   Column        Non-Null Count  Dtype  \n",
      "---  ------        --------------  -----  \n",
      " 0   given_name    280 non-null    object \n",
      " 1   surname       280 non-null    object \n",
      " 2   auralin       280 non-null    object \n",
      " 3   novodra       280 non-null    object \n",
      " 4   hba1c_start   280 non-null    float64\n",
      " 5   hba1c_end     280 non-null    float64\n",
      " 6   hba1c_change  171 non-null    float64\n",
      "dtypes: float64(3), object(4)\n",
      "memory usage: 15.4+ KB\n"
     ]
    }
   ],
   "source": [
    "treatments.info()"
   ]
  },
  {
   "cell_type": "code",
   "execution_count": 7,
   "metadata": {},
   "outputs": [
    {
     "data": {
      "text/html": [
       "<div>\n",
       "<style scoped>\n",
       "    .dataframe tbody tr th:only-of-type {\n",
       "        vertical-align: middle;\n",
       "    }\n",
       "\n",
       "    .dataframe tbody tr th {\n",
       "        vertical-align: top;\n",
       "    }\n",
       "\n",
       "    .dataframe thead th {\n",
       "        text-align: right;\n",
       "    }\n",
       "</style>\n",
       "<table border=\"1\" class=\"dataframe\">\n",
       "  <thead>\n",
       "    <tr style=\"text-align: right;\">\n",
       "      <th></th>\n",
       "      <th>given_name</th>\n",
       "      <th>surname</th>\n",
       "      <th>adverse_reaction</th>\n",
       "    </tr>\n",
       "  </thead>\n",
       "  <tbody>\n",
       "    <tr>\n",
       "      <th>0</th>\n",
       "      <td>berta</td>\n",
       "      <td>napolitani</td>\n",
       "      <td>injection site discomfort</td>\n",
       "    </tr>\n",
       "  </tbody>\n",
       "</table>\n",
       "</div>"
      ],
      "text/plain": [
       "  given_name     surname           adverse_reaction\n",
       "0      berta  napolitani  injection site discomfort"
      ]
     },
     "execution_count": 7,
     "metadata": {},
     "output_type": "execute_result"
    }
   ],
   "source": [
    "adverse_reactions.head(1)"
   ]
  },
  {
   "cell_type": "code",
   "execution_count": 8,
   "metadata": {},
   "outputs": [
    {
     "name": "stdout",
     "output_type": "stream",
     "text": [
      "<class 'pandas.core.frame.DataFrame'>\n",
      "RangeIndex: 34 entries, 0 to 33\n",
      "Data columns (total 3 columns):\n",
      " #   Column            Non-Null Count  Dtype \n",
      "---  ------            --------------  ----- \n",
      " 0   given_name        34 non-null     object\n",
      " 1   surname           34 non-null     object\n",
      " 2   adverse_reaction  34 non-null     object\n",
      "dtypes: object(3)\n",
      "memory usage: 944.0+ bytes\n"
     ]
    }
   ],
   "source": [
    "adverse_reactions.info()"
   ]
  },
  {
   "cell_type": "code",
   "execution_count": 9,
   "metadata": {},
   "outputs": [
    {
     "data": {
      "text/plain": [
       "14    given_name\n",
       "15       surname\n",
       "21    given_name\n",
       "22       surname\n",
       "dtype: object"
      ]
     },
     "execution_count": 9,
     "metadata": {},
     "output_type": "execute_result"
    }
   ],
   "source": [
    "all_columns = pd.Series(list(patients) + list(treatments) + list(adverse_reactions))\n",
    "all_columns[all_columns.duplicated()]"
   ]
  },
  {
   "cell_type": "code",
   "execution_count": 10,
   "metadata": {},
   "outputs": [
    {
     "data": {
      "text/plain": [
       "Doe            6\n",
       "Jakobsen       3\n",
       "Taylor         3\n",
       "Lâm            2\n",
       "Bùi            2\n",
       "              ..\n",
       "Šlezinger      1\n",
       "Mobourne       1\n",
       "Frederiksen    1\n",
       "Fujiwara       1\n",
       "Ibeamaka       1\n",
       "Name: surname, Length: 466, dtype: int64"
      ]
     },
     "execution_count": 10,
     "metadata": {},
     "output_type": "execute_result"
    }
   ],
   "source": [
    "patients.surname.value_counts()"
   ]
  },
  {
   "cell_type": "code",
   "execution_count": 11,
   "metadata": {},
   "outputs": [
    {
     "data": {
      "text/plain": [
       "123 Main Street              6\n",
       "2778 North Avenue            2\n",
       "2476 Fulton Street           2\n",
       "648 Old Dear Lane            2\n",
       "192 Patton Lane              1\n",
       "                            ..\n",
       "475 Preston Street           1\n",
       "4894 Chandler Hollow Road    1\n",
       "1373 Wilmar Farm Road        1\n",
       "1717 Vineyard Drive          1\n",
       "989 Wayback Lane             1\n",
       "Name: address, Length: 483, dtype: int64"
      ]
     },
     "execution_count": 11,
     "metadata": {},
     "output_type": "execute_result"
    }
   ],
   "source": [
    "patients.address.value_counts()"
   ]
  },
  {
   "cell_type": "code",
   "execution_count": 12,
   "metadata": {},
   "outputs": [
    {
     "data": {
      "text/html": [
       "<div>\n",
       "<style scoped>\n",
       "    .dataframe tbody tr th:only-of-type {\n",
       "        vertical-align: middle;\n",
       "    }\n",
       "\n",
       "    .dataframe tbody tr th {\n",
       "        vertical-align: top;\n",
       "    }\n",
       "\n",
       "    .dataframe thead th {\n",
       "        text-align: right;\n",
       "    }\n",
       "</style>\n",
       "<table border=\"1\" class=\"dataframe\">\n",
       "  <thead>\n",
       "    <tr style=\"text-align: right;\">\n",
       "      <th></th>\n",
       "      <th>patient_id</th>\n",
       "      <th>assigned_sex</th>\n",
       "      <th>given_name</th>\n",
       "      <th>surname</th>\n",
       "      <th>address</th>\n",
       "      <th>city</th>\n",
       "      <th>state</th>\n",
       "      <th>zip_code</th>\n",
       "      <th>country</th>\n",
       "      <th>contact</th>\n",
       "      <th>birthdate</th>\n",
       "      <th>weight</th>\n",
       "      <th>height</th>\n",
       "      <th>bmi</th>\n",
       "    </tr>\n",
       "  </thead>\n",
       "  <tbody>\n",
       "    <tr>\n",
       "      <th>209</th>\n",
       "      <td>210</td>\n",
       "      <td>female</td>\n",
       "      <td>Lalita</td>\n",
       "      <td>Eldarkhanov</td>\n",
       "      <td>NaN</td>\n",
       "      <td>NaN</td>\n",
       "      <td>NaN</td>\n",
       "      <td>NaN</td>\n",
       "      <td>NaN</td>\n",
       "      <td>NaN</td>\n",
       "      <td>8/14/1950</td>\n",
       "      <td>143.4</td>\n",
       "      <td>62</td>\n",
       "      <td>26.2</td>\n",
       "    </tr>\n",
       "    <tr>\n",
       "      <th>219</th>\n",
       "      <td>220</td>\n",
       "      <td>male</td>\n",
       "      <td>Mỹ</td>\n",
       "      <td>Quynh</td>\n",
       "      <td>NaN</td>\n",
       "      <td>NaN</td>\n",
       "      <td>NaN</td>\n",
       "      <td>NaN</td>\n",
       "      <td>NaN</td>\n",
       "      <td>NaN</td>\n",
       "      <td>4/9/1978</td>\n",
       "      <td>237.8</td>\n",
       "      <td>69</td>\n",
       "      <td>35.1</td>\n",
       "    </tr>\n",
       "    <tr>\n",
       "      <th>230</th>\n",
       "      <td>231</td>\n",
       "      <td>female</td>\n",
       "      <td>Elisabeth</td>\n",
       "      <td>Knudsen</td>\n",
       "      <td>NaN</td>\n",
       "      <td>NaN</td>\n",
       "      <td>NaN</td>\n",
       "      <td>NaN</td>\n",
       "      <td>NaN</td>\n",
       "      <td>NaN</td>\n",
       "      <td>9/23/1976</td>\n",
       "      <td>165.9</td>\n",
       "      <td>63</td>\n",
       "      <td>29.4</td>\n",
       "    </tr>\n",
       "    <tr>\n",
       "      <th>234</th>\n",
       "      <td>235</td>\n",
       "      <td>female</td>\n",
       "      <td>Martina</td>\n",
       "      <td>Tománková</td>\n",
       "      <td>NaN</td>\n",
       "      <td>NaN</td>\n",
       "      <td>NaN</td>\n",
       "      <td>NaN</td>\n",
       "      <td>NaN</td>\n",
       "      <td>NaN</td>\n",
       "      <td>4/7/1936</td>\n",
       "      <td>199.5</td>\n",
       "      <td>65</td>\n",
       "      <td>33.2</td>\n",
       "    </tr>\n",
       "    <tr>\n",
       "      <th>242</th>\n",
       "      <td>243</td>\n",
       "      <td>male</td>\n",
       "      <td>John</td>\n",
       "      <td>O'Brian</td>\n",
       "      <td>NaN</td>\n",
       "      <td>NaN</td>\n",
       "      <td>NaN</td>\n",
       "      <td>NaN</td>\n",
       "      <td>NaN</td>\n",
       "      <td>NaN</td>\n",
       "      <td>2/25/1957</td>\n",
       "      <td>205.3</td>\n",
       "      <td>74</td>\n",
       "      <td>26.4</td>\n",
       "    </tr>\n",
       "    <tr>\n",
       "      <th>249</th>\n",
       "      <td>250</td>\n",
       "      <td>male</td>\n",
       "      <td>Benjamin</td>\n",
       "      <td>Mehler</td>\n",
       "      <td>NaN</td>\n",
       "      <td>NaN</td>\n",
       "      <td>NaN</td>\n",
       "      <td>NaN</td>\n",
       "      <td>NaN</td>\n",
       "      <td>NaN</td>\n",
       "      <td>10/30/1951</td>\n",
       "      <td>146.5</td>\n",
       "      <td>69</td>\n",
       "      <td>21.6</td>\n",
       "    </tr>\n",
       "    <tr>\n",
       "      <th>257</th>\n",
       "      <td>258</td>\n",
       "      <td>male</td>\n",
       "      <td>Jin</td>\n",
       "      <td>Kung</td>\n",
       "      <td>NaN</td>\n",
       "      <td>NaN</td>\n",
       "      <td>NaN</td>\n",
       "      <td>NaN</td>\n",
       "      <td>NaN</td>\n",
       "      <td>NaN</td>\n",
       "      <td>5/17/1995</td>\n",
       "      <td>231.7</td>\n",
       "      <td>69</td>\n",
       "      <td>34.2</td>\n",
       "    </tr>\n",
       "    <tr>\n",
       "      <th>264</th>\n",
       "      <td>265</td>\n",
       "      <td>female</td>\n",
       "      <td>Wafiyyah</td>\n",
       "      <td>Asfour</td>\n",
       "      <td>NaN</td>\n",
       "      <td>NaN</td>\n",
       "      <td>NaN</td>\n",
       "      <td>NaN</td>\n",
       "      <td>NaN</td>\n",
       "      <td>NaN</td>\n",
       "      <td>11/3/1989</td>\n",
       "      <td>158.6</td>\n",
       "      <td>63</td>\n",
       "      <td>28.1</td>\n",
       "    </tr>\n",
       "    <tr>\n",
       "      <th>269</th>\n",
       "      <td>270</td>\n",
       "      <td>female</td>\n",
       "      <td>Flavia</td>\n",
       "      <td>Fiorentino</td>\n",
       "      <td>NaN</td>\n",
       "      <td>NaN</td>\n",
       "      <td>NaN</td>\n",
       "      <td>NaN</td>\n",
       "      <td>NaN</td>\n",
       "      <td>NaN</td>\n",
       "      <td>10/9/1937</td>\n",
       "      <td>175.2</td>\n",
       "      <td>61</td>\n",
       "      <td>33.1</td>\n",
       "    </tr>\n",
       "    <tr>\n",
       "      <th>278</th>\n",
       "      <td>279</td>\n",
       "      <td>female</td>\n",
       "      <td>Generosa</td>\n",
       "      <td>Cabán</td>\n",
       "      <td>NaN</td>\n",
       "      <td>NaN</td>\n",
       "      <td>NaN</td>\n",
       "      <td>NaN</td>\n",
       "      <td>NaN</td>\n",
       "      <td>NaN</td>\n",
       "      <td>12/16/1962</td>\n",
       "      <td>124.3</td>\n",
       "      <td>69</td>\n",
       "      <td>18.4</td>\n",
       "    </tr>\n",
       "    <tr>\n",
       "      <th>286</th>\n",
       "      <td>287</td>\n",
       "      <td>male</td>\n",
       "      <td>Lewis</td>\n",
       "      <td>Webb</td>\n",
       "      <td>NaN</td>\n",
       "      <td>NaN</td>\n",
       "      <td>NaN</td>\n",
       "      <td>NaN</td>\n",
       "      <td>NaN</td>\n",
       "      <td>NaN</td>\n",
       "      <td>4/1/1979</td>\n",
       "      <td>155.3</td>\n",
       "      <td>68</td>\n",
       "      <td>23.6</td>\n",
       "    </tr>\n",
       "    <tr>\n",
       "      <th>296</th>\n",
       "      <td>297</td>\n",
       "      <td>female</td>\n",
       "      <td>Chỉ</td>\n",
       "      <td>Lâm</td>\n",
       "      <td>NaN</td>\n",
       "      <td>NaN</td>\n",
       "      <td>NaN</td>\n",
       "      <td>NaN</td>\n",
       "      <td>NaN</td>\n",
       "      <td>NaN</td>\n",
       "      <td>5/14/1990</td>\n",
       "      <td>181.1</td>\n",
       "      <td>63</td>\n",
       "      <td>32.1</td>\n",
       "    </tr>\n",
       "  </tbody>\n",
       "</table>\n",
       "</div>"
      ],
      "text/plain": [
       "     patient_id assigned_sex given_name      surname address city state  \\\n",
       "209         210       female     Lalita  Eldarkhanov     NaN  NaN   NaN   \n",
       "219         220         male         Mỹ        Quynh     NaN  NaN   NaN   \n",
       "230         231       female  Elisabeth      Knudsen     NaN  NaN   NaN   \n",
       "234         235       female    Martina    Tománková     NaN  NaN   NaN   \n",
       "242         243         male       John      O'Brian     NaN  NaN   NaN   \n",
       "249         250         male   Benjamin       Mehler     NaN  NaN   NaN   \n",
       "257         258         male        Jin         Kung     NaN  NaN   NaN   \n",
       "264         265       female   Wafiyyah       Asfour     NaN  NaN   NaN   \n",
       "269         270       female     Flavia   Fiorentino     NaN  NaN   NaN   \n",
       "278         279       female   Generosa        Cabán     NaN  NaN   NaN   \n",
       "286         287         male      Lewis         Webb     NaN  NaN   NaN   \n",
       "296         297       female        Chỉ          Lâm     NaN  NaN   NaN   \n",
       "\n",
       "     zip_code country contact   birthdate  weight  height   bmi  \n",
       "209       NaN     NaN     NaN   8/14/1950   143.4      62  26.2  \n",
       "219       NaN     NaN     NaN    4/9/1978   237.8      69  35.1  \n",
       "230       NaN     NaN     NaN   9/23/1976   165.9      63  29.4  \n",
       "234       NaN     NaN     NaN    4/7/1936   199.5      65  33.2  \n",
       "242       NaN     NaN     NaN   2/25/1957   205.3      74  26.4  \n",
       "249       NaN     NaN     NaN  10/30/1951   146.5      69  21.6  \n",
       "257       NaN     NaN     NaN   5/17/1995   231.7      69  34.2  \n",
       "264       NaN     NaN     NaN   11/3/1989   158.6      63  28.1  \n",
       "269       NaN     NaN     NaN   10/9/1937   175.2      61  33.1  \n",
       "278       NaN     NaN     NaN  12/16/1962   124.3      69  18.4  \n",
       "286       NaN     NaN     NaN    4/1/1979   155.3      68  23.6  \n",
       "296       NaN     NaN     NaN   5/14/1990   181.1      63  32.1  "
      ]
     },
     "execution_count": 12,
     "metadata": {},
     "output_type": "execute_result"
    }
   ],
   "source": [
    "patients[patients['address'].isnull()]"
   ]
  },
  {
   "cell_type": "code",
   "execution_count": 13,
   "metadata": {},
   "outputs": [
    {
     "data": {
      "text/html": [
       "<div>\n",
       "<style scoped>\n",
       "    .dataframe tbody tr th:only-of-type {\n",
       "        vertical-align: middle;\n",
       "    }\n",
       "\n",
       "    .dataframe tbody tr th {\n",
       "        vertical-align: top;\n",
       "    }\n",
       "\n",
       "    .dataframe thead th {\n",
       "        text-align: right;\n",
       "    }\n",
       "</style>\n",
       "<table border=\"1\" class=\"dataframe\">\n",
       "  <thead>\n",
       "    <tr style=\"text-align: right;\">\n",
       "      <th></th>\n",
       "      <th>patient_id</th>\n",
       "      <th>assigned_sex</th>\n",
       "      <th>given_name</th>\n",
       "      <th>surname</th>\n",
       "      <th>address</th>\n",
       "      <th>city</th>\n",
       "      <th>state</th>\n",
       "      <th>zip_code</th>\n",
       "      <th>country</th>\n",
       "      <th>contact</th>\n",
       "      <th>birthdate</th>\n",
       "      <th>weight</th>\n",
       "      <th>height</th>\n",
       "      <th>bmi</th>\n",
       "    </tr>\n",
       "  </thead>\n",
       "  <tbody>\n",
       "    <tr>\n",
       "      <th>29</th>\n",
       "      <td>30</td>\n",
       "      <td>male</td>\n",
       "      <td>Jake</td>\n",
       "      <td>Jakobsen</td>\n",
       "      <td>648 Old Dear Lane</td>\n",
       "      <td>Port Jervis</td>\n",
       "      <td>New York</td>\n",
       "      <td>12771.0</td>\n",
       "      <td>United States</td>\n",
       "      <td>JakobCJakobsen@einrot.com+1 (845) 858-7707</td>\n",
       "      <td>8/1/1985</td>\n",
       "      <td>155.8</td>\n",
       "      <td>67</td>\n",
       "      <td>24.4</td>\n",
       "    </tr>\n",
       "    <tr>\n",
       "      <th>219</th>\n",
       "      <td>220</td>\n",
       "      <td>male</td>\n",
       "      <td>Mỹ</td>\n",
       "      <td>Quynh</td>\n",
       "      <td>NaN</td>\n",
       "      <td>NaN</td>\n",
       "      <td>NaN</td>\n",
       "      <td>NaN</td>\n",
       "      <td>NaN</td>\n",
       "      <td>NaN</td>\n",
       "      <td>4/9/1978</td>\n",
       "      <td>237.8</td>\n",
       "      <td>69</td>\n",
       "      <td>35.1</td>\n",
       "    </tr>\n",
       "    <tr>\n",
       "      <th>229</th>\n",
       "      <td>230</td>\n",
       "      <td>male</td>\n",
       "      <td>John</td>\n",
       "      <td>Doe</td>\n",
       "      <td>123 Main Street</td>\n",
       "      <td>New York</td>\n",
       "      <td>NY</td>\n",
       "      <td>12345.0</td>\n",
       "      <td>United States</td>\n",
       "      <td>johndoe@email.com1234567890</td>\n",
       "      <td>1/1/1975</td>\n",
       "      <td>180.0</td>\n",
       "      <td>72</td>\n",
       "      <td>24.4</td>\n",
       "    </tr>\n",
       "    <tr>\n",
       "      <th>230</th>\n",
       "      <td>231</td>\n",
       "      <td>female</td>\n",
       "      <td>Elisabeth</td>\n",
       "      <td>Knudsen</td>\n",
       "      <td>NaN</td>\n",
       "      <td>NaN</td>\n",
       "      <td>NaN</td>\n",
       "      <td>NaN</td>\n",
       "      <td>NaN</td>\n",
       "      <td>NaN</td>\n",
       "      <td>9/23/1976</td>\n",
       "      <td>165.9</td>\n",
       "      <td>63</td>\n",
       "      <td>29.4</td>\n",
       "    </tr>\n",
       "    <tr>\n",
       "      <th>234</th>\n",
       "      <td>235</td>\n",
       "      <td>female</td>\n",
       "      <td>Martina</td>\n",
       "      <td>Tománková</td>\n",
       "      <td>NaN</td>\n",
       "      <td>NaN</td>\n",
       "      <td>NaN</td>\n",
       "      <td>NaN</td>\n",
       "      <td>NaN</td>\n",
       "      <td>NaN</td>\n",
       "      <td>4/7/1936</td>\n",
       "      <td>199.5</td>\n",
       "      <td>65</td>\n",
       "      <td>33.2</td>\n",
       "    </tr>\n",
       "    <tr>\n",
       "      <th>237</th>\n",
       "      <td>238</td>\n",
       "      <td>male</td>\n",
       "      <td>John</td>\n",
       "      <td>Doe</td>\n",
       "      <td>123 Main Street</td>\n",
       "      <td>New York</td>\n",
       "      <td>NY</td>\n",
       "      <td>12345.0</td>\n",
       "      <td>United States</td>\n",
       "      <td>johndoe@email.com1234567890</td>\n",
       "      <td>1/1/1975</td>\n",
       "      <td>180.0</td>\n",
       "      <td>72</td>\n",
       "      <td>24.4</td>\n",
       "    </tr>\n",
       "    <tr>\n",
       "      <th>242</th>\n",
       "      <td>243</td>\n",
       "      <td>male</td>\n",
       "      <td>John</td>\n",
       "      <td>O'Brian</td>\n",
       "      <td>NaN</td>\n",
       "      <td>NaN</td>\n",
       "      <td>NaN</td>\n",
       "      <td>NaN</td>\n",
       "      <td>NaN</td>\n",
       "      <td>NaN</td>\n",
       "      <td>2/25/1957</td>\n",
       "      <td>205.3</td>\n",
       "      <td>74</td>\n",
       "      <td>26.4</td>\n",
       "    </tr>\n",
       "    <tr>\n",
       "      <th>244</th>\n",
       "      <td>245</td>\n",
       "      <td>male</td>\n",
       "      <td>John</td>\n",
       "      <td>Doe</td>\n",
       "      <td>123 Main Street</td>\n",
       "      <td>New York</td>\n",
       "      <td>NY</td>\n",
       "      <td>12345.0</td>\n",
       "      <td>United States</td>\n",
       "      <td>johndoe@email.com1234567890</td>\n",
       "      <td>1/1/1975</td>\n",
       "      <td>180.0</td>\n",
       "      <td>72</td>\n",
       "      <td>24.4</td>\n",
       "    </tr>\n",
       "    <tr>\n",
       "      <th>249</th>\n",
       "      <td>250</td>\n",
       "      <td>male</td>\n",
       "      <td>Benjamin</td>\n",
       "      <td>Mehler</td>\n",
       "      <td>NaN</td>\n",
       "      <td>NaN</td>\n",
       "      <td>NaN</td>\n",
       "      <td>NaN</td>\n",
       "      <td>NaN</td>\n",
       "      <td>NaN</td>\n",
       "      <td>10/30/1951</td>\n",
       "      <td>146.5</td>\n",
       "      <td>69</td>\n",
       "      <td>21.6</td>\n",
       "    </tr>\n",
       "    <tr>\n",
       "      <th>251</th>\n",
       "      <td>252</td>\n",
       "      <td>male</td>\n",
       "      <td>John</td>\n",
       "      <td>Doe</td>\n",
       "      <td>123 Main Street</td>\n",
       "      <td>New York</td>\n",
       "      <td>NY</td>\n",
       "      <td>12345.0</td>\n",
       "      <td>United States</td>\n",
       "      <td>johndoe@email.com1234567890</td>\n",
       "      <td>1/1/1975</td>\n",
       "      <td>180.0</td>\n",
       "      <td>72</td>\n",
       "      <td>24.4</td>\n",
       "    </tr>\n",
       "    <tr>\n",
       "      <th>257</th>\n",
       "      <td>258</td>\n",
       "      <td>male</td>\n",
       "      <td>Jin</td>\n",
       "      <td>Kung</td>\n",
       "      <td>NaN</td>\n",
       "      <td>NaN</td>\n",
       "      <td>NaN</td>\n",
       "      <td>NaN</td>\n",
       "      <td>NaN</td>\n",
       "      <td>NaN</td>\n",
       "      <td>5/17/1995</td>\n",
       "      <td>231.7</td>\n",
       "      <td>69</td>\n",
       "      <td>34.2</td>\n",
       "    </tr>\n",
       "    <tr>\n",
       "      <th>264</th>\n",
       "      <td>265</td>\n",
       "      <td>female</td>\n",
       "      <td>Wafiyyah</td>\n",
       "      <td>Asfour</td>\n",
       "      <td>NaN</td>\n",
       "      <td>NaN</td>\n",
       "      <td>NaN</td>\n",
       "      <td>NaN</td>\n",
       "      <td>NaN</td>\n",
       "      <td>NaN</td>\n",
       "      <td>11/3/1989</td>\n",
       "      <td>158.6</td>\n",
       "      <td>63</td>\n",
       "      <td>28.1</td>\n",
       "    </tr>\n",
       "    <tr>\n",
       "      <th>269</th>\n",
       "      <td>270</td>\n",
       "      <td>female</td>\n",
       "      <td>Flavia</td>\n",
       "      <td>Fiorentino</td>\n",
       "      <td>NaN</td>\n",
       "      <td>NaN</td>\n",
       "      <td>NaN</td>\n",
       "      <td>NaN</td>\n",
       "      <td>NaN</td>\n",
       "      <td>NaN</td>\n",
       "      <td>10/9/1937</td>\n",
       "      <td>175.2</td>\n",
       "      <td>61</td>\n",
       "      <td>33.1</td>\n",
       "    </tr>\n",
       "    <tr>\n",
       "      <th>277</th>\n",
       "      <td>278</td>\n",
       "      <td>male</td>\n",
       "      <td>John</td>\n",
       "      <td>Doe</td>\n",
       "      <td>123 Main Street</td>\n",
       "      <td>New York</td>\n",
       "      <td>NY</td>\n",
       "      <td>12345.0</td>\n",
       "      <td>United States</td>\n",
       "      <td>johndoe@email.com1234567890</td>\n",
       "      <td>1/1/1975</td>\n",
       "      <td>180.0</td>\n",
       "      <td>72</td>\n",
       "      <td>24.4</td>\n",
       "    </tr>\n",
       "    <tr>\n",
       "      <th>278</th>\n",
       "      <td>279</td>\n",
       "      <td>female</td>\n",
       "      <td>Generosa</td>\n",
       "      <td>Cabán</td>\n",
       "      <td>NaN</td>\n",
       "      <td>NaN</td>\n",
       "      <td>NaN</td>\n",
       "      <td>NaN</td>\n",
       "      <td>NaN</td>\n",
       "      <td>NaN</td>\n",
       "      <td>12/16/1962</td>\n",
       "      <td>124.3</td>\n",
       "      <td>69</td>\n",
       "      <td>18.4</td>\n",
       "    </tr>\n",
       "    <tr>\n",
       "      <th>282</th>\n",
       "      <td>283</td>\n",
       "      <td>female</td>\n",
       "      <td>Sandy</td>\n",
       "      <td>Taylor</td>\n",
       "      <td>2476 Fulton Street</td>\n",
       "      <td>Rainelle</td>\n",
       "      <td>WV</td>\n",
       "      <td>25962.0</td>\n",
       "      <td>United States</td>\n",
       "      <td>304-438-2648SandraCTaylor@dayrep.com</td>\n",
       "      <td>10/23/1960</td>\n",
       "      <td>206.1</td>\n",
       "      <td>64</td>\n",
       "      <td>35.4</td>\n",
       "    </tr>\n",
       "    <tr>\n",
       "      <th>286</th>\n",
       "      <td>287</td>\n",
       "      <td>male</td>\n",
       "      <td>Lewis</td>\n",
       "      <td>Webb</td>\n",
       "      <td>NaN</td>\n",
       "      <td>NaN</td>\n",
       "      <td>NaN</td>\n",
       "      <td>NaN</td>\n",
       "      <td>NaN</td>\n",
       "      <td>NaN</td>\n",
       "      <td>4/1/1979</td>\n",
       "      <td>155.3</td>\n",
       "      <td>68</td>\n",
       "      <td>23.6</td>\n",
       "    </tr>\n",
       "    <tr>\n",
       "      <th>296</th>\n",
       "      <td>297</td>\n",
       "      <td>female</td>\n",
       "      <td>Chỉ</td>\n",
       "      <td>Lâm</td>\n",
       "      <td>NaN</td>\n",
       "      <td>NaN</td>\n",
       "      <td>NaN</td>\n",
       "      <td>NaN</td>\n",
       "      <td>NaN</td>\n",
       "      <td>NaN</td>\n",
       "      <td>5/14/1990</td>\n",
       "      <td>181.1</td>\n",
       "      <td>63</td>\n",
       "      <td>32.1</td>\n",
       "    </tr>\n",
       "    <tr>\n",
       "      <th>502</th>\n",
       "      <td>503</td>\n",
       "      <td>male</td>\n",
       "      <td>Pat</td>\n",
       "      <td>Gersten</td>\n",
       "      <td>2778 North Avenue</td>\n",
       "      <td>Burr</td>\n",
       "      <td>Nebraska</td>\n",
       "      <td>68324.0</td>\n",
       "      <td>United States</td>\n",
       "      <td>PatrickGersten@rhyta.com402-848-4923</td>\n",
       "      <td>5/3/1954</td>\n",
       "      <td>138.2</td>\n",
       "      <td>71</td>\n",
       "      <td>19.3</td>\n",
       "    </tr>\n",
       "  </tbody>\n",
       "</table>\n",
       "</div>"
      ],
      "text/plain": [
       "     patient_id assigned_sex given_name     surname             address  \\\n",
       "29           30         male       Jake    Jakobsen   648 Old Dear Lane   \n",
       "219         220         male         Mỹ       Quynh                 NaN   \n",
       "229         230         male       John         Doe     123 Main Street   \n",
       "230         231       female  Elisabeth     Knudsen                 NaN   \n",
       "234         235       female    Martina   Tománková                 NaN   \n",
       "237         238         male       John         Doe     123 Main Street   \n",
       "242         243         male       John     O'Brian                 NaN   \n",
       "244         245         male       John         Doe     123 Main Street   \n",
       "249         250         male   Benjamin      Mehler                 NaN   \n",
       "251         252         male       John         Doe     123 Main Street   \n",
       "257         258         male        Jin        Kung                 NaN   \n",
       "264         265       female   Wafiyyah      Asfour                 NaN   \n",
       "269         270       female     Flavia  Fiorentino                 NaN   \n",
       "277         278         male       John         Doe     123 Main Street   \n",
       "278         279       female   Generosa       Cabán                 NaN   \n",
       "282         283       female      Sandy      Taylor  2476 Fulton Street   \n",
       "286         287         male      Lewis        Webb                 NaN   \n",
       "296         297       female        Chỉ         Lâm                 NaN   \n",
       "502         503         male        Pat     Gersten   2778 North Avenue   \n",
       "\n",
       "            city     state  zip_code        country  \\\n",
       "29   Port Jervis  New York   12771.0  United States   \n",
       "219          NaN       NaN       NaN            NaN   \n",
       "229     New York        NY   12345.0  United States   \n",
       "230          NaN       NaN       NaN            NaN   \n",
       "234          NaN       NaN       NaN            NaN   \n",
       "237     New York        NY   12345.0  United States   \n",
       "242          NaN       NaN       NaN            NaN   \n",
       "244     New York        NY   12345.0  United States   \n",
       "249          NaN       NaN       NaN            NaN   \n",
       "251     New York        NY   12345.0  United States   \n",
       "257          NaN       NaN       NaN            NaN   \n",
       "264          NaN       NaN       NaN            NaN   \n",
       "269          NaN       NaN       NaN            NaN   \n",
       "277     New York        NY   12345.0  United States   \n",
       "278          NaN       NaN       NaN            NaN   \n",
       "282     Rainelle        WV   25962.0  United States   \n",
       "286          NaN       NaN       NaN            NaN   \n",
       "296          NaN       NaN       NaN            NaN   \n",
       "502         Burr  Nebraska   68324.0  United States   \n",
       "\n",
       "                                        contact   birthdate  weight  height  \\\n",
       "29   JakobCJakobsen@einrot.com+1 (845) 858-7707    8/1/1985   155.8      67   \n",
       "219                                         NaN    4/9/1978   237.8      69   \n",
       "229                 johndoe@email.com1234567890    1/1/1975   180.0      72   \n",
       "230                                         NaN   9/23/1976   165.9      63   \n",
       "234                                         NaN    4/7/1936   199.5      65   \n",
       "237                 johndoe@email.com1234567890    1/1/1975   180.0      72   \n",
       "242                                         NaN   2/25/1957   205.3      74   \n",
       "244                 johndoe@email.com1234567890    1/1/1975   180.0      72   \n",
       "249                                         NaN  10/30/1951   146.5      69   \n",
       "251                 johndoe@email.com1234567890    1/1/1975   180.0      72   \n",
       "257                                         NaN   5/17/1995   231.7      69   \n",
       "264                                         NaN   11/3/1989   158.6      63   \n",
       "269                                         NaN   10/9/1937   175.2      61   \n",
       "277                 johndoe@email.com1234567890    1/1/1975   180.0      72   \n",
       "278                                         NaN  12/16/1962   124.3      69   \n",
       "282        304-438-2648SandraCTaylor@dayrep.com  10/23/1960   206.1      64   \n",
       "286                                         NaN    4/1/1979   155.3      68   \n",
       "296                                         NaN   5/14/1990   181.1      63   \n",
       "502        PatrickGersten@rhyta.com402-848-4923    5/3/1954   138.2      71   \n",
       "\n",
       "      bmi  \n",
       "29   24.4  \n",
       "219  35.1  \n",
       "229  24.4  \n",
       "230  29.4  \n",
       "234  33.2  \n",
       "237  24.4  \n",
       "242  26.4  \n",
       "244  24.4  \n",
       "249  21.6  \n",
       "251  24.4  \n",
       "257  34.2  \n",
       "264  28.1  \n",
       "269  33.1  \n",
       "277  24.4  \n",
       "278  18.4  \n",
       "282  35.4  \n",
       "286  23.6  \n",
       "296  32.1  \n",
       "502  19.3  "
      ]
     },
     "execution_count": 13,
     "metadata": {},
     "output_type": "execute_result"
    }
   ],
   "source": [
    "patients[patients.address.duplicated()]"
   ]
  },
  {
   "cell_type": "code",
   "execution_count": 14,
   "metadata": {},
   "outputs": [
    {
     "data": {
      "text/html": [
       "<div>\n",
       "<style scoped>\n",
       "    .dataframe tbody tr th:only-of-type {\n",
       "        vertical-align: middle;\n",
       "    }\n",
       "\n",
       "    .dataframe tbody tr th {\n",
       "        vertical-align: top;\n",
       "    }\n",
       "\n",
       "    .dataframe thead th {\n",
       "        text-align: right;\n",
       "    }\n",
       "</style>\n",
       "<table border=\"1\" class=\"dataframe\">\n",
       "  <thead>\n",
       "    <tr style=\"text-align: right;\">\n",
       "      <th></th>\n",
       "      <th>patient_id</th>\n",
       "      <th>zip_code</th>\n",
       "      <th>weight</th>\n",
       "      <th>height</th>\n",
       "      <th>bmi</th>\n",
       "    </tr>\n",
       "  </thead>\n",
       "  <tbody>\n",
       "    <tr>\n",
       "      <th>count</th>\n",
       "      <td>503.000000</td>\n",
       "      <td>491.000000</td>\n",
       "      <td>503.000000</td>\n",
       "      <td>503.000000</td>\n",
       "      <td>503.000000</td>\n",
       "    </tr>\n",
       "    <tr>\n",
       "      <th>mean</th>\n",
       "      <td>252.000000</td>\n",
       "      <td>49084.118126</td>\n",
       "      <td>173.434990</td>\n",
       "      <td>66.634195</td>\n",
       "      <td>27.483897</td>\n",
       "    </tr>\n",
       "    <tr>\n",
       "      <th>std</th>\n",
       "      <td>145.347859</td>\n",
       "      <td>30265.807442</td>\n",
       "      <td>33.916741</td>\n",
       "      <td>4.411297</td>\n",
       "      <td>5.276438</td>\n",
       "    </tr>\n",
       "    <tr>\n",
       "      <th>min</th>\n",
       "      <td>1.000000</td>\n",
       "      <td>1002.000000</td>\n",
       "      <td>48.800000</td>\n",
       "      <td>27.000000</td>\n",
       "      <td>17.100000</td>\n",
       "    </tr>\n",
       "    <tr>\n",
       "      <th>25%</th>\n",
       "      <td>126.500000</td>\n",
       "      <td>21920.500000</td>\n",
       "      <td>149.300000</td>\n",
       "      <td>63.000000</td>\n",
       "      <td>23.300000</td>\n",
       "    </tr>\n",
       "    <tr>\n",
       "      <th>50%</th>\n",
       "      <td>252.000000</td>\n",
       "      <td>48057.000000</td>\n",
       "      <td>175.300000</td>\n",
       "      <td>67.000000</td>\n",
       "      <td>27.200000</td>\n",
       "    </tr>\n",
       "    <tr>\n",
       "      <th>75%</th>\n",
       "      <td>377.500000</td>\n",
       "      <td>75679.000000</td>\n",
       "      <td>199.500000</td>\n",
       "      <td>70.000000</td>\n",
       "      <td>31.750000</td>\n",
       "    </tr>\n",
       "    <tr>\n",
       "      <th>max</th>\n",
       "      <td>503.000000</td>\n",
       "      <td>99701.000000</td>\n",
       "      <td>255.900000</td>\n",
       "      <td>79.000000</td>\n",
       "      <td>37.700000</td>\n",
       "    </tr>\n",
       "  </tbody>\n",
       "</table>\n",
       "</div>"
      ],
      "text/plain": [
       "       patient_id      zip_code      weight      height         bmi\n",
       "count  503.000000    491.000000  503.000000  503.000000  503.000000\n",
       "mean   252.000000  49084.118126  173.434990   66.634195   27.483897\n",
       "std    145.347859  30265.807442   33.916741    4.411297    5.276438\n",
       "min      1.000000   1002.000000   48.800000   27.000000   17.100000\n",
       "25%    126.500000  21920.500000  149.300000   63.000000   23.300000\n",
       "50%    252.000000  48057.000000  175.300000   67.000000   27.200000\n",
       "75%    377.500000  75679.000000  199.500000   70.000000   31.750000\n",
       "max    503.000000  99701.000000  255.900000   79.000000   37.700000"
      ]
     },
     "execution_count": 14,
     "metadata": {},
     "output_type": "execute_result"
    }
   ],
   "source": [
    "patients.describe()"
   ]
  },
  {
   "cell_type": "code",
   "execution_count": 15,
   "metadata": {},
   "outputs": [
    {
     "data": {
      "text/plain": [
       "210     48.8\n",
       "459    102.1\n",
       "335    102.7\n",
       "74     103.2\n",
       "317    106.0\n",
       "       ...  \n",
       "144    244.9\n",
       "61     244.9\n",
       "283    245.5\n",
       "118    254.5\n",
       "485    255.9\n",
       "Name: weight, Length: 503, dtype: float64"
      ]
     },
     "execution_count": 15,
     "metadata": {},
     "output_type": "execute_result"
    }
   ],
   "source": [
    "patients.weight.sort_values()"
   ]
  },
  {
   "cell_type": "code",
   "execution_count": 16,
   "metadata": {},
   "outputs": [
    {
     "data": {
      "text/html": [
       "<div>\n",
       "<style scoped>\n",
       "    .dataframe tbody tr th:only-of-type {\n",
       "        vertical-align: middle;\n",
       "    }\n",
       "\n",
       "    .dataframe tbody tr th {\n",
       "        vertical-align: top;\n",
       "    }\n",
       "\n",
       "    .dataframe thead th {\n",
       "        text-align: right;\n",
       "    }\n",
       "</style>\n",
       "<table border=\"1\" class=\"dataframe\">\n",
       "  <thead>\n",
       "    <tr style=\"text-align: right;\">\n",
       "      <th></th>\n",
       "      <th>patient_id</th>\n",
       "      <th>assigned_sex</th>\n",
       "      <th>given_name</th>\n",
       "      <th>surname</th>\n",
       "      <th>address</th>\n",
       "      <th>city</th>\n",
       "      <th>state</th>\n",
       "      <th>zip_code</th>\n",
       "      <th>country</th>\n",
       "      <th>contact</th>\n",
       "      <th>birthdate</th>\n",
       "      <th>weight</th>\n",
       "      <th>height</th>\n",
       "      <th>bmi</th>\n",
       "    </tr>\n",
       "  </thead>\n",
       "  <tbody>\n",
       "    <tr>\n",
       "      <th>210</th>\n",
       "      <td>211</td>\n",
       "      <td>female</td>\n",
       "      <td>Camilla</td>\n",
       "      <td>Zaitseva</td>\n",
       "      <td>4689 Briarhill Lane</td>\n",
       "      <td>Wooster</td>\n",
       "      <td>OH</td>\n",
       "      <td>44691.0</td>\n",
       "      <td>United States</td>\n",
       "      <td>330-202-2145CamillaZaitseva@superrito.com</td>\n",
       "      <td>11/26/1938</td>\n",
       "      <td>48.8</td>\n",
       "      <td>63</td>\n",
       "      <td>19.1</td>\n",
       "    </tr>\n",
       "  </tbody>\n",
       "</table>\n",
       "</div>"
      ],
      "text/plain": [
       "     patient_id assigned_sex given_name   surname              address  \\\n",
       "210         211       female    Camilla  Zaitseva  4689 Briarhill Lane   \n",
       "\n",
       "        city state  zip_code        country  \\\n",
       "210  Wooster    OH   44691.0  United States   \n",
       "\n",
       "                                       contact   birthdate  weight  height  \\\n",
       "210  330-202-2145CamillaZaitseva@superrito.com  11/26/1938    48.8      63   \n",
       "\n",
       "      bmi  \n",
       "210  19.1  "
      ]
     },
     "execution_count": 16,
     "metadata": {},
     "output_type": "execute_result"
    }
   ],
   "source": [
    "patients.query('weight == 48.8')"
   ]
  },
  {
   "cell_type": "code",
   "execution_count": 17,
   "metadata": {},
   "outputs": [
    {
     "data": {
      "text/plain": [
       "210    19.055827\n",
       "dtype: float64"
      ]
     },
     "execution_count": 17,
     "metadata": {},
     "output_type": "execute_result"
    }
   ],
   "source": [
    "weight_lbs = patients[patients.surname == 'Zaitseva'].weight * 2.20462\n",
    "height_in = patients[patients.surname == 'Zaitseva'].height\n",
    "bmi_check = 703 * weight_lbs / (height_in * height_in)\n",
    "bmi_check"
   ]
  },
  {
   "cell_type": "code",
   "execution_count": 18,
   "metadata": {},
   "outputs": [
    {
     "data": {
      "text/plain": [
       "0"
      ]
     },
     "execution_count": 18,
     "metadata": {},
     "output_type": "execute_result"
    }
   ],
   "source": [
    "sum(treatments.auralin.isnull())"
   ]
  },
  {
   "cell_type": "code",
   "execution_count": 19,
   "metadata": {},
   "outputs": [
    {
     "data": {
      "text/plain": [
       "0"
      ]
     },
     "execution_count": 19,
     "metadata": {},
     "output_type": "execute_result"
    }
   ],
   "source": [
    "sum(treatments.novodra.isnull())"
   ]
  },
  {
   "cell_type": "markdown",
   "metadata": {},
   "source": [
    "### Quality issuues\n",
    "#### patients table\n",
    "- zip code is a float. not a string\n",
    "- zip code has four digit sometimes\n",
    "- Tim Neudorf height is 27 in instead 72 in\n",
    "- fill state names sometimes, abbreviations other time\n",
    "- the given name for the patient_id 9 is David, not Dsvid\n",
    "- missing info(address - contact) columns\n",
    "- Erroneous datatype (assigned sex, state, zip_code, birthdate)\n",
    "- multiple phone number formats\n",
    "- there are 6 Dohn Doe data\n",
    "- multiple records for Jacobson , Gersten , Taylor\n",
    "- kg instead lbs for Zaitseva\n",
    "\n",
    "#### treatments table\n",
    "- missing HbA1c changes\n",
    "- 'u' next to start dose and end dose in the auralin and novodra columns\n",
    "- missing records: 280 records instead of 350\n",
    "- patient names are all lowercases\n",
    "- Erroneous datatype (auralin and novodra)\n",
    "- HbA1c calculations are wrong\n",
    "- Nulls represented as dashed in auralin and novadra\n",
    "\n",
    "#### adverse reactions table\n",
    "-  Lowercase names"
   ]
  },
  {
   "cell_type": "markdown",
   "metadata": {},
   "source": [
    "### Tidiness\n",
    "- contact column (email and phone number) in `patients` table should be separated\n",
    "- variables in `treatment` table (treatment, start&end dose) needs to be fixed\n",
    "- adverse reaction table should be part of `treatments` table\n",
    "- given name and surname in `patient` table are duplicated in `treatments` and `adverse_reactions` tables"
   ]
  },
  {
   "cell_type": "markdown",
   "metadata": {},
   "source": [
    "## Clean"
   ]
  },
  {
   "cell_type": "code",
   "execution_count": 20,
   "metadata": {},
   "outputs": [],
   "source": [
    "patients_clean = patients.copy()\n",
    "treatments_clean = treatments.copy()\n",
    "adverse_reactions_clean = adverse_reactions.copy()"
   ]
  },
  {
   "cell_type": "markdown",
   "metadata": {},
   "source": [
    "### Miising data"
   ]
  },
  {
   "cell_type": "markdown",
   "metadata": {},
   "source": [
    "#### `Treatments`: Missing records (280 instead of 350)"
   ]
  },
  {
   "cell_type": "markdown",
   "metadata": {},
   "source": [
    "#### Define"
   ]
  },
  {
   "cell_type": "markdown",
   "metadata": {},
   "source": [
    "import the cut treatments into the dataframe and concatnate the original `treatments` dataframe."
   ]
  },
  {
   "cell_type": "markdown",
   "metadata": {},
   "source": [
    "#### Code"
   ]
  },
  {
   "cell_type": "code",
   "execution_count": 21,
   "metadata": {},
   "outputs": [],
   "source": [
    "treatments_cut = pd.read_csv('treatments_cut.csv')\n",
    "treatments_clean = pd.concat([treatments_clean , treatments_cut] ,\n",
    "                            ignore_index = True)"
   ]
  },
  {
   "cell_type": "markdown",
   "metadata": {},
   "source": [
    "#### Test"
   ]
  },
  {
   "cell_type": "code",
   "execution_count": 22,
   "metadata": {},
   "outputs": [
    {
     "data": {
      "text/html": [
       "<div>\n",
       "<style scoped>\n",
       "    .dataframe tbody tr th:only-of-type {\n",
       "        vertical-align: middle;\n",
       "    }\n",
       "\n",
       "    .dataframe tbody tr th {\n",
       "        vertical-align: top;\n",
       "    }\n",
       "\n",
       "    .dataframe thead th {\n",
       "        text-align: right;\n",
       "    }\n",
       "</style>\n",
       "<table border=\"1\" class=\"dataframe\">\n",
       "  <thead>\n",
       "    <tr style=\"text-align: right;\">\n",
       "      <th></th>\n",
       "      <th>given_name</th>\n",
       "      <th>surname</th>\n",
       "      <th>auralin</th>\n",
       "      <th>novodra</th>\n",
       "      <th>hba1c_start</th>\n",
       "      <th>hba1c_end</th>\n",
       "      <th>hba1c_change</th>\n",
       "    </tr>\n",
       "  </thead>\n",
       "  <tbody>\n",
       "    <tr>\n",
       "      <th>349</th>\n",
       "      <td>armina</td>\n",
       "      <td>sauvé</td>\n",
       "      <td>36u - 46u</td>\n",
       "      <td>-</td>\n",
       "      <td>7.86</td>\n",
       "      <td>7.4</td>\n",
       "      <td>NaN</td>\n",
       "    </tr>\n",
       "  </tbody>\n",
       "</table>\n",
       "</div>"
      ],
      "text/plain": [
       "    given_name surname    auralin novodra  hba1c_start  hba1c_end  \\\n",
       "349     armina   sauvé  36u - 46u       -         7.86        7.4   \n",
       "\n",
       "     hba1c_change  \n",
       "349           NaN  "
      ]
     },
     "execution_count": 22,
     "metadata": {},
     "output_type": "execute_result"
    }
   ],
   "source": [
    "treatments_clean.tail(1)"
   ]
  },
  {
   "cell_type": "markdown",
   "metadata": {},
   "source": [
    "`treatments`**: missing hbA1c changes and inaccurate HbA1c changes**"
   ]
  },
  {
   "cell_type": "markdown",
   "metadata": {},
   "source": [
    "#### Define"
   ]
  },
  {
   "cell_type": "markdown",
   "metadata": {},
   "source": [
    "Recalcurate the `hba1c_change` column: `hba1c_start` minus `hba1c_end`"
   ]
  },
  {
   "cell_type": "markdown",
   "metadata": {},
   "source": [
    "#### Code"
   ]
  },
  {
   "cell_type": "code",
   "execution_count": 23,
   "metadata": {},
   "outputs": [],
   "source": [
    "treatments_clean.hba1c_change = (treatments_clean.hba1c_start - \n",
    "                                treatments_clean.hba1c_end)"
   ]
  },
  {
   "cell_type": "markdown",
   "metadata": {},
   "source": [
    "#### Test"
   ]
  },
  {
   "cell_type": "code",
   "execution_count": 24,
   "metadata": {},
   "outputs": [
    {
     "data": {
      "text/html": [
       "<div>\n",
       "<style scoped>\n",
       "    .dataframe tbody tr th:only-of-type {\n",
       "        vertical-align: middle;\n",
       "    }\n",
       "\n",
       "    .dataframe tbody tr th {\n",
       "        vertical-align: top;\n",
       "    }\n",
       "\n",
       "    .dataframe thead th {\n",
       "        text-align: right;\n",
       "    }\n",
       "</style>\n",
       "<table border=\"1\" class=\"dataframe\">\n",
       "  <thead>\n",
       "    <tr style=\"text-align: right;\">\n",
       "      <th></th>\n",
       "      <th>given_name</th>\n",
       "      <th>surname</th>\n",
       "      <th>auralin</th>\n",
       "      <th>novodra</th>\n",
       "      <th>hba1c_start</th>\n",
       "      <th>hba1c_end</th>\n",
       "      <th>hba1c_change</th>\n",
       "    </tr>\n",
       "  </thead>\n",
       "  <tbody>\n",
       "    <tr>\n",
       "      <th>0</th>\n",
       "      <td>veronika</td>\n",
       "      <td>jindrová</td>\n",
       "      <td>41u - 48u</td>\n",
       "      <td>-</td>\n",
       "      <td>7.63</td>\n",
       "      <td>7.2</td>\n",
       "      <td>0.43</td>\n",
       "    </tr>\n",
       "  </tbody>\n",
       "</table>\n",
       "</div>"
      ],
      "text/plain": [
       "  given_name   surname    auralin novodra  hba1c_start  hba1c_end  \\\n",
       "0   veronika  jindrová  41u - 48u       -         7.63        7.2   \n",
       "\n",
       "   hba1c_change  \n",
       "0          0.43  "
      ]
     },
     "execution_count": 24,
     "metadata": {},
     "output_type": "execute_result"
    }
   ],
   "source": [
    "treatments_clean.head(1)"
   ]
  },
  {
   "cell_type": "markdown",
   "metadata": {},
   "source": [
    "### Tidiness"
   ]
  },
  {
   "cell_type": "markdown",
   "metadata": {},
   "source": [
    "**Contact column in `patients` table two variables: phone number and email**"
   ]
  },
  {
   "cell_type": "markdown",
   "metadata": {},
   "source": [
    "#### Define"
   ]
  },
  {
   "cell_type": "markdown",
   "metadata": {},
   "source": [
    "Extract the phone number and email variables from the contact column using regular expression and panda's `str.extract` method. Drop the contact column when done,"
   ]
  },
  {
   "cell_type": "markdown",
   "metadata": {},
   "source": [
    "#### Code"
   ]
  },
  {
   "cell_type": "code",
   "execution_count": 25,
   "metadata": {},
   "outputs": [],
   "source": [
    "patients_clean['phone_number'] = patients_clean.contact.str.extract('((?:\\+\\d{1,2}\\s)?\\(?\\d{3}\\)?[\\s.-]?\\d{3}[\\s.-]?\\d{4})', expand=True)\n",
    "\n",
    "# [a-zA-Z] to signify emails in this dataset all start and end with letters\n",
    "patients_clean['email'] = patients_clean.contact.str.extract('([a-zA-Z][a-zA-Z0-9_.+-]+@[a-zA-Z0-9-]+\\.[a-zA-Z0-9-.]+[a-zA-Z])', expand=True)\n",
    "\n",
    "\n",
    "patients_clean = patients_clean.drop('contact', axis=1)"
   ]
  },
  {
   "cell_type": "markdown",
   "metadata": {},
   "source": [
    "#### Test"
   ]
  },
  {
   "cell_type": "code",
   "execution_count": 26,
   "metadata": {},
   "outputs": [
    {
     "data": {
      "text/plain": [
       "['patient_id',\n",
       " 'assigned_sex',\n",
       " 'given_name',\n",
       " 'surname',\n",
       " 'address',\n",
       " 'city',\n",
       " 'state',\n",
       " 'zip_code',\n",
       " 'country',\n",
       " 'birthdate',\n",
       " 'weight',\n",
       " 'height',\n",
       " 'bmi',\n",
       " 'phone_number',\n",
       " 'email']"
      ]
     },
     "execution_count": 26,
     "metadata": {},
     "output_type": "execute_result"
    }
   ],
   "source": [
    "list(patients_clean)"
   ]
  },
  {
   "cell_type": "code",
   "execution_count": 27,
   "metadata": {},
   "outputs": [
    {
     "data": {
      "text/plain": [
       "389         918-459-9811\n",
       "343         203-251-3573\n",
       "243         715-817-0134\n",
       "64     +1 (315) 362-5858\n",
       "275    +1 (224) 305-6805\n",
       "Name: phone_number, dtype: object"
      ]
     },
     "execution_count": 27,
     "metadata": {},
     "output_type": "execute_result"
    }
   ],
   "source": [
    "patients_clean.phone_number.sample(5)"
   ]
  },
  {
   "cell_type": "code",
   "execution_count": 28,
   "metadata": {},
   "outputs": [
    {
     "data": {
      "text/plain": [
       "404               AaliyahRice@dayrep.com\n",
       "11          Abdul-NurMummarIsa@rhyta.com\n",
       "332                AbelEfrem@fleckens.hu\n",
       "258              AbelYonatan@teleworm.us\n",
       "305    AddolorataLombardi@jourrapide.com\n",
       "Name: email, dtype: object"
      ]
     },
     "execution_count": 28,
     "metadata": {},
     "output_type": "execute_result"
    }
   ],
   "source": [
    "# Confirm that no emails start with an integer (regex didn't match for this)\n",
    "patients_clean.email.sort_values().head()"
   ]
  },
  {
   "cell_type": "markdown",
   "metadata": {},
   "source": [
    "**Three variables in two columns in `treatments` table (treatment, start dose and end dose)**"
   ]
  },
  {
   "cell_type": "markdown",
   "metadata": {},
   "source": [
    "#### Define"
   ]
  },
  {
   "cell_type": "markdown",
   "metadata": {},
   "source": [
    "Melt eh auralin and novodra columns to a treatment and a dose column (dose will still contain both start anf end dose at this point) \n",
    "Then split the dose column on ' - ' to obtain start_dose and end_dose columns.\n",
    "Drop the dose columns"
   ]
  },
  {
   "cell_type": "markdown",
   "metadata": {},
   "source": [
    "#### Code"
   ]
  },
  {
   "cell_type": "code",
   "execution_count": 29,
   "metadata": {},
   "outputs": [],
   "source": [
    "treatments_clean = pd.melt(treatments_clean ,id_vars= ['given_name' , 'surname' , 'hba1c_start' , 'hba1c_end' , 'hba1c_change'],\n",
    "                           var_name='treatment', value_name='dose')"
   ]
  },
  {
   "cell_type": "code",
   "execution_count": 30,
   "metadata": {},
   "outputs": [
    {
     "name": "stderr",
     "output_type": "stream",
     "text": [
      "C:\\Users\\bebop\\Anaconda3\\lib\\site-packages\\ipykernel_launcher.py:2: FutureWarning: Columnar iteration over characters will be deprecated in future releases.\n",
      "  \n"
     ]
    }
   ],
   "source": [
    "treatments_clean = treatments_clean[treatments_clean.dose != \"-\"]\n",
    "treatments_clean['dose_start'] , treatments_clean['dose_end'] = treatments_clean['dose'].str.split(' - ' , 1).str\n",
    "treatments_clean = treatments_clean.drop('dose' , axis = 1)"
   ]
  },
  {
   "cell_type": "markdown",
   "metadata": {},
   "source": [
    "#### Test"
   ]
  },
  {
   "cell_type": "code",
   "execution_count": 31,
   "metadata": {},
   "outputs": [
    {
     "data": {
      "text/html": [
       "<div>\n",
       "<style scoped>\n",
       "    .dataframe tbody tr th:only-of-type {\n",
       "        vertical-align: middle;\n",
       "    }\n",
       "\n",
       "    .dataframe tbody tr th {\n",
       "        vertical-align: top;\n",
       "    }\n",
       "\n",
       "    .dataframe thead th {\n",
       "        text-align: right;\n",
       "    }\n",
       "</style>\n",
       "<table border=\"1\" class=\"dataframe\">\n",
       "  <thead>\n",
       "    <tr style=\"text-align: right;\">\n",
       "      <th></th>\n",
       "      <th>given_name</th>\n",
       "      <th>surname</th>\n",
       "      <th>hba1c_start</th>\n",
       "      <th>hba1c_end</th>\n",
       "      <th>hba1c_change</th>\n",
       "      <th>treatment</th>\n",
       "      <th>dose_start</th>\n",
       "      <th>dose_end</th>\n",
       "    </tr>\n",
       "  </thead>\n",
       "  <tbody>\n",
       "    <tr>\n",
       "      <th>0</th>\n",
       "      <td>veronika</td>\n",
       "      <td>jindrová</td>\n",
       "      <td>7.63</td>\n",
       "      <td>7.2</td>\n",
       "      <td>0.43</td>\n",
       "      <td>auralin</td>\n",
       "      <td>41u</td>\n",
       "      <td>48u</td>\n",
       "    </tr>\n",
       "  </tbody>\n",
       "</table>\n",
       "</div>"
      ],
      "text/plain": [
       "  given_name   surname  hba1c_start  hba1c_end  hba1c_change treatment  \\\n",
       "0   veronika  jindrová         7.63        7.2          0.43   auralin   \n",
       "\n",
       "  dose_start dose_end  \n",
       "0        41u      48u  "
      ]
     },
     "execution_count": 31,
     "metadata": {},
     "output_type": "execute_result"
    }
   ],
   "source": [
    "treatments_clean.head(1)"
   ]
  },
  {
   "cell_type": "markdown",
   "metadata": {},
   "source": [
    "**Adverse reaction should be `treatments` table**"
   ]
  },
  {
   "cell_type": "markdown",
   "metadata": {},
   "source": [
    "#### Define"
   ]
  },
  {
   "cell_type": "markdown",
   "metadata": {},
   "source": [
    "Merge the adverse_reaction columns to the `treatments` table, joining on given name and\n",
    "surname"
   ]
  },
  {
   "cell_type": "markdown",
   "metadata": {},
   "source": [
    "#### Code"
   ]
  },
  {
   "cell_type": "code",
   "execution_count": 32,
   "metadata": {},
   "outputs": [],
   "source": [
    "treatments_clean = pd.merge(treatments_clean , adverse_reactions_clean,\n",
    "                           on = ['given_name' , 'surname'] , how = 'left')"
   ]
  },
  {
   "cell_type": "markdown",
   "metadata": {},
   "source": [
    "#### Test"
   ]
  },
  {
   "cell_type": "code",
   "execution_count": 33,
   "metadata": {},
   "outputs": [
    {
     "data": {
      "text/html": [
       "<div>\n",
       "<style scoped>\n",
       "    .dataframe tbody tr th:only-of-type {\n",
       "        vertical-align: middle;\n",
       "    }\n",
       "\n",
       "    .dataframe tbody tr th {\n",
       "        vertical-align: top;\n",
       "    }\n",
       "\n",
       "    .dataframe thead th {\n",
       "        text-align: right;\n",
       "    }\n",
       "</style>\n",
       "<table border=\"1\" class=\"dataframe\">\n",
       "  <thead>\n",
       "    <tr style=\"text-align: right;\">\n",
       "      <th></th>\n",
       "      <th>given_name</th>\n",
       "      <th>surname</th>\n",
       "      <th>hba1c_start</th>\n",
       "      <th>hba1c_end</th>\n",
       "      <th>hba1c_change</th>\n",
       "      <th>treatment</th>\n",
       "      <th>dose_start</th>\n",
       "      <th>dose_end</th>\n",
       "      <th>adverse_reaction</th>\n",
       "    </tr>\n",
       "  </thead>\n",
       "  <tbody>\n",
       "    <tr>\n",
       "      <th>0</th>\n",
       "      <td>veronika</td>\n",
       "      <td>jindrová</td>\n",
       "      <td>7.63</td>\n",
       "      <td>7.2</td>\n",
       "      <td>0.43</td>\n",
       "      <td>auralin</td>\n",
       "      <td>41u</td>\n",
       "      <td>48u</td>\n",
       "      <td>NaN</td>\n",
       "    </tr>\n",
       "  </tbody>\n",
       "</table>\n",
       "</div>"
      ],
      "text/plain": [
       "  given_name   surname  hba1c_start  hba1c_end  hba1c_change treatment  \\\n",
       "0   veronika  jindrová         7.63        7.2          0.43   auralin   \n",
       "\n",
       "  dose_start dose_end adverse_reaction  \n",
       "0        41u      48u              NaN  "
      ]
     },
     "execution_count": 33,
     "metadata": {},
     "output_type": "execute_result"
    }
   ],
   "source": [
    "treatments_clean.head(1)"
   ]
  },
  {
   "cell_type": "markdown",
   "metadata": {},
   "source": [
    "**Given name and surname columns in `patients` table duplicated in `treatments` and `adverse_reaction` table and Lowercase given names and surnames**"
   ]
  },
  {
   "cell_type": "markdown",
   "metadata": {},
   "source": [
    "#### Define"
   ]
  },
  {
   "cell_type": "markdown",
   "metadata": {},
   "source": [
    "Adverse reaction table is no longer needed so ignore that part, Isolate the patient ID and names in the `patience` table, then convert these names to lower case to join with `treatments`, Then drop the given name and surname columns in the treatment table(so these being lowercase isn't an issue anymore)."
   ]
  },
  {
   "cell_type": "markdown",
   "metadata": {},
   "source": [
    "#### Code"
   ]
  },
  {
   "cell_type": "code",
   "execution_count": 34,
   "metadata": {},
   "outputs": [
    {
     "name": "stderr",
     "output_type": "stream",
     "text": [
      "C:\\Users\\bebop\\Anaconda3\\lib\\site-packages\\pandas\\core\\generic.py:5303: SettingWithCopyWarning: \n",
      "A value is trying to be set on a copy of a slice from a DataFrame.\n",
      "Try using .loc[row_indexer,col_indexer] = value instead\n",
      "\n",
      "See the caveats in the documentation: https://pandas.pydata.org/pandas-docs/stable/user_guide/indexing.html#returning-a-view-versus-a-copy\n",
      "  self[name] = value\n"
     ]
    }
   ],
   "source": [
    "id_names = patients_clean[['patient_id' , 'given_name' , 'surname']]\n",
    "id_names.given_name = id_names.given_name.str.lower()\n",
    "id_names.surname = id_names.surname.str.lower()\n",
    "treatments_clean = pd.merge(treatments_clean , id_names, on = ['given_name' , 'surname'])\n",
    "treatments_clean = treatments_clean.drop(['given_name' , 'surname'] , axis = 1)"
   ]
  },
  {
   "cell_type": "markdown",
   "metadata": {},
   "source": [
    "#### Test"
   ]
  },
  {
   "cell_type": "code",
   "execution_count": 35,
   "metadata": {},
   "outputs": [
    {
     "data": {
      "text/html": [
       "<div>\n",
       "<style scoped>\n",
       "    .dataframe tbody tr th:only-of-type {\n",
       "        vertical-align: middle;\n",
       "    }\n",
       "\n",
       "    .dataframe tbody tr th {\n",
       "        vertical-align: top;\n",
       "    }\n",
       "\n",
       "    .dataframe thead th {\n",
       "        text-align: right;\n",
       "    }\n",
       "</style>\n",
       "<table border=\"1\" class=\"dataframe\">\n",
       "  <thead>\n",
       "    <tr style=\"text-align: right;\">\n",
       "      <th></th>\n",
       "      <th>hba1c_start</th>\n",
       "      <th>hba1c_end</th>\n",
       "      <th>hba1c_change</th>\n",
       "      <th>treatment</th>\n",
       "      <th>dose_start</th>\n",
       "      <th>dose_end</th>\n",
       "      <th>adverse_reaction</th>\n",
       "      <th>patient_id</th>\n",
       "    </tr>\n",
       "  </thead>\n",
       "  <tbody>\n",
       "    <tr>\n",
       "      <th>0</th>\n",
       "      <td>7.63</td>\n",
       "      <td>7.2</td>\n",
       "      <td>0.43</td>\n",
       "      <td>auralin</td>\n",
       "      <td>41u</td>\n",
       "      <td>48u</td>\n",
       "      <td>NaN</td>\n",
       "      <td>225</td>\n",
       "    </tr>\n",
       "  </tbody>\n",
       "</table>\n",
       "</div>"
      ],
      "text/plain": [
       "   hba1c_start  hba1c_end  hba1c_change treatment dose_start dose_end  \\\n",
       "0         7.63        7.2          0.43   auralin        41u      48u   \n",
       "\n",
       "  adverse_reaction  patient_id  \n",
       "0              NaN         225  "
      ]
     },
     "execution_count": 35,
     "metadata": {},
     "output_type": "execute_result"
    }
   ],
   "source": [
    "treatments_clean.head(1)"
   ]
  },
  {
   "cell_type": "code",
   "execution_count": 36,
   "metadata": {},
   "outputs": [
    {
     "data": {
      "text/plain": [
       "22    patient_id\n",
       "dtype: object"
      ]
     },
     "execution_count": 36,
     "metadata": {},
     "output_type": "execute_result"
    }
   ],
   "source": [
    "# Patient ID should be the only duplicate column\n",
    "all_columns = pd.Series(list(patients_clean) + list(treatments_clean))\n",
    "all_columns[all_columns.duplicated()]"
   ]
  },
  {
   "cell_type": "markdown",
   "metadata": {},
   "source": [
    "### Quality"
   ]
  },
  {
   "cell_type": "markdown",
   "metadata": {},
   "source": [
    "**Zip code is a float not a string and Zip code has four digits someimes**"
   ]
  },
  {
   "cell_type": "markdown",
   "metadata": {},
   "source": [
    "**Define**"
   ]
  },
  {
   "cell_type": "markdown",
   "metadata": {},
   "source": [
    "Convert the zip code column's data type from a float to a string using `astyype` , remove the '.0' using string slicing. and pad four digit zip codes with a leading 0."
   ]
  },
  {
   "cell_type": "markdown",
   "metadata": {},
   "source": [
    "#### Code"
   ]
  },
  {
   "cell_type": "code",
   "execution_count": 37,
   "metadata": {},
   "outputs": [],
   "source": [
    "patients_clean.zip_code = patients_clean.zip_code.astype(str).str[:-2].str.pad(5 , fillchar = \"0\")\n",
    "patients_clean.zip_code = patients_clean.zip_code.replace('0000n' , np.nan)"
   ]
  },
  {
   "cell_type": "code",
   "execution_count": 38,
   "metadata": {},
   "outputs": [
    {
     "data": {
      "text/plain": [
       "0      92390\n",
       "1      61812\n",
       "2      68467\n",
       "3      07095\n",
       "4      36303\n",
       "5      32114\n",
       "6      84728\n",
       "7      95037\n",
       "8      64105\n",
       "9      10011\n",
       "10     49780\n",
       "11     37027\n",
       "12     24504\n",
       "13     35203\n",
       "14     74105\n",
       "15     37660\n",
       "16     93706\n",
       "17     30082\n",
       "18     59324\n",
       "19     95966\n",
       "20     02382\n",
       "21     10523\n",
       "22     10570\n",
       "23     33830\n",
       "24     12771\n",
       "25     87109\n",
       "26     61602\n",
       "27     70091\n",
       "28     19034\n",
       "29     12771\n",
       "30     80112\n",
       "31     37618\n",
       "32     90815\n",
       "33     60115\n",
       "34     04474\n",
       "35     10004\n",
       "36     54701\n",
       "37     57350\n",
       "38     01581\n",
       "39     02081\n",
       "40     30303\n",
       "41     56230\n",
       "42     33409\n",
       "43     82939\n",
       "44     04901\n",
       "45     38310\n",
       "46     15201\n",
       "47     30337\n",
       "48     60148\n",
       "49     43537\n",
       "50     18701\n",
       "51     52801\n",
       "52     50322\n",
       "53     02038\n",
       "54     01803\n",
       "55     89119\n",
       "56     31024\n",
       "57     91941\n",
       "58     15205\n",
       "59     27893\n",
       "60     92101\n",
       "61     93301\n",
       "62     02178\n",
       "63     92103\n",
       "64     13221\n",
       "65     46065\n",
       "66     92103\n",
       "67     01752\n",
       "68     53204\n",
       "69     60148\n",
       "70     45701\n",
       "71     06103\n",
       "72     70001\n",
       "73     02035\n",
       "74     74106\n",
       "75     94538\n",
       "76     55410\n",
       "77     40507\n",
       "78     02048\n",
       "79     19108\n",
       "80     11590\n",
       "81     73844\n",
       "82     30346\n",
       "83     45407\n",
       "84     10001\n",
       "85     34746\n",
       "86     20031\n",
       "87     56358\n",
       "88     30902\n",
       "89     85281\n",
       "90     14214\n",
       "91     77002\n",
       "92     08060\n",
       "93     33323\n",
       "94     33106\n",
       "95     79506\n",
       "96     04769\n",
       "97     68324\n",
       "98     99701\n",
       "99     11590\n",
       "100    58416\n",
       "101    65652\n",
       "102    36104\n",
       "103    32751\n",
       "104    85012\n",
       "105    28328\n",
       "106    47362\n",
       "107    21771\n",
       "108    67427\n",
       "109    39402\n",
       "110    75247\n",
       "111    91321\n",
       "112    23602\n",
       "113    77074\n",
       "114    10016\n",
       "115    95453\n",
       "116    41601\n",
       "117    70112\n",
       "118    70528\n",
       "119    77063\n",
       "120    94108\n",
       "121    13221\n",
       "122    49503\n",
       "123    33634\n",
       "124    02169\n",
       "125    74119\n",
       "126    02210\n",
       "127    98541\n",
       "128    46214\n",
       "129    10004\n",
       "130    29420\n",
       "131    25962\n",
       "132    18436\n",
       "133    29210\n",
       "134    12207\n",
       "135    44115\n",
       "136    90017\n",
       "137    33062\n",
       "138    23220\n",
       "139    45202\n",
       "140    62522\n",
       "141    75207\n",
       "142    10001\n",
       "143    98109\n",
       "144    46804\n",
       "145    19403\n",
       "146    46312\n",
       "147    90025\n",
       "148    11227\n",
       "149    78058\n",
       "150    33838\n",
       "151    95610\n",
       "152    10004\n",
       "153    89509\n",
       "154    53711\n",
       "155    62201\n",
       "156    55113\n",
       "157    53014\n",
       "158    74136\n",
       "159    28779\n",
       "160    85023\n",
       "161    59522\n",
       "162    95814\n",
       "163    29180\n",
       "164    66061\n",
       "165    39194\n",
       "166    75601\n",
       "167    01730\n",
       "168    94306\n",
       "169    19020\n",
       "170    11227\n",
       "171    60525\n",
       "172    52240\n",
       "173    48057\n",
       "174    99218\n",
       "175    62650\n",
       "176    01852\n",
       "177    90014\n",
       "178    60631\n",
       "179    50158\n",
       "180    71201\n",
       "181    81637\n",
       "182    07304\n",
       "183    92335\n",
       "184    32174\n",
       "185    48731\n",
       "186    02908\n",
       "187    60605\n",
       "188    10011\n",
       "189    95817\n",
       "190    15044\n",
       "191    60607\n",
       "192    11530\n",
       "193    06516\n",
       "194    08525\n",
       "195    70113\n",
       "196    78702\n",
       "197    49735\n",
       "198    40507\n",
       "199    35062\n",
       "200    08110\n",
       "201    03833\n",
       "202    97204\n",
       "203    63301\n",
       "204    73102\n",
       "205    14150\n",
       "206    79014\n",
       "207    48607\n",
       "208    76011\n",
       "209      NaN\n",
       "210    44691\n",
       "211    55114\n",
       "212    28202\n",
       "213    10013\n",
       "214    05047\n",
       "215    12345\n",
       "216    10016\n",
       "217    30601\n",
       "218    37766\n",
       "219      NaN\n",
       "220    94612\n",
       "221    97205\n",
       "222    40244\n",
       "223    83234\n",
       "224    05301\n",
       "225    20024\n",
       "226    10603\n",
       "227    68124\n",
       "228    95826\n",
       "229    12345\n",
       "230      NaN\n",
       "231    27839\n",
       "232    92123\n",
       "233    70112\n",
       "234      NaN\n",
       "235    41844\n",
       "236    80010\n",
       "237    12345\n",
       "238    19139\n",
       "239    39501\n",
       "240    35806\n",
       "241    38002\n",
       "242      NaN\n",
       "243    54880\n",
       "244    12345\n",
       "245    61101\n",
       "246    92704\n",
       "247    10011\n",
       "248    68859\n",
       "249      NaN\n",
       "250    21222\n",
       "251    12345\n",
       "252    01730\n",
       "253    32810\n",
       "254    15205\n",
       "255    54739\n",
       "256    17881\n",
       "257      NaN\n",
       "258    91502\n",
       "259    33610\n",
       "260    94509\n",
       "261    02110\n",
       "262    77092\n",
       "263    10036\n",
       "264      NaN\n",
       "265    48647\n",
       "266    41858\n",
       "267    67401\n",
       "268    94070\n",
       "269      NaN\n",
       "270    62040\n",
       "271    78539\n",
       "272    45402\n",
       "273    39362\n",
       "274    43081\n",
       "275    60148\n",
       "276    83836\n",
       "277    12345\n",
       "278      NaN\n",
       "279    26814\n",
       "280    78258\n",
       "281    35203\n",
       "282    25962\n",
       "283    60605\n",
       "284    02081\n",
       "285    73102\n",
       "286      NaN\n",
       "287    92111\n",
       "288    95060\n",
       "289    70065\n",
       "290    01730\n",
       "291    19934\n",
       "292    60924\n",
       "293    94597\n",
       "294    02142\n",
       "295    95814\n",
       "296      NaN\n",
       "297    15205\n",
       "298    78476\n",
       "299    83823\n",
       "300    31901\n",
       "301    10004\n",
       "302    39401\n",
       "303    48219\n",
       "304    40202\n",
       "305    13901\n",
       "306    68418\n",
       "307    39501\n",
       "308    11743\n",
       "309    35203\n",
       "310    66219\n",
       "311    39350\n",
       "312    90017\n",
       "313    36502\n",
       "314    08876\n",
       "315    78217\n",
       "316    01002\n",
       "317    89110\n",
       "318    11530\n",
       "319    58102\n",
       "320    53202\n",
       "321    70112\n",
       "322    76632\n",
       "323    45236\n",
       "324    20009\n",
       "325    60601\n",
       "326    12303\n",
       "327    07109\n",
       "328    55402\n",
       "329    33624\n",
       "330    29902\n",
       "331    92618\n",
       "332    37138\n",
       "333    46773\n",
       "334    60103\n",
       "335    47933\n",
       "336    48342\n",
       "337    83642\n",
       "338    70001\n",
       "339    55124\n",
       "340    93550\n",
       "341    93632\n",
       "342    06182\n",
       "343    06901\n",
       "344    30303\n",
       "345    47957\n",
       "346    13904\n",
       "347    92109\n",
       "348    53574\n",
       "349    98361\n",
       "350    75235\n",
       "351    37403\n",
       "352    31401\n",
       "353    31022\n",
       "354    07102\n",
       "355    02905\n",
       "356    70449\n",
       "357    43311\n",
       "358    06450\n",
       "359    76552\n",
       "360    30303\n",
       "361    79905\n",
       "362    23510\n",
       "363    90017\n",
       "364    91403\n",
       "365    24153\n",
       "366    57401\n",
       "367    89431\n",
       "368    02110\n",
       "369    92101\n",
       "370    02780\n",
       "371    07087\n",
       "372    62234\n",
       "373    72762\n",
       "374    99111\n",
       "375    70360\n",
       "376    67202\n",
       "377    61880\n",
       "378    38115\n",
       "379    73086\n",
       "380    08232\n",
       "381    72392\n",
       "382    48858\n",
       "383    83435\n",
       "384    57730\n",
       "385    22958\n",
       "386    95134\n",
       "387    33301\n",
       "388    71109\n",
       "389    74133\n",
       "390    78945\n",
       "391    33323\n",
       "392    60439\n",
       "393    22070\n",
       "394    75757\n",
       "395    27055\n",
       "396    33870\n",
       "397    14546\n",
       "398    30124\n",
       "399    98109\n",
       "400    53073\n",
       "401    66044\n",
       "402    39175\n",
       "403    02908\n",
       "404    77591\n",
       "405    97321\n",
       "406    30720\n",
       "407    73107\n",
       "408    49738\n",
       "409    14211\n",
       "410    73095\n",
       "411    12207\n",
       "412    45204\n",
       "413    48221\n",
       "414    45380\n",
       "415    91765\n",
       "416    11590\n",
       "417    98052\n",
       "418    58571\n",
       "419    46268\n",
       "420    10018\n",
       "421    72210\n",
       "422    50120\n",
       "423    80904\n",
       "424    02906\n",
       "425    07087\n",
       "426    33179\n",
       "427    79601\n",
       "428    15212\n",
       "429    58203\n",
       "430    58301\n",
       "431    94568\n",
       "432    77020\n",
       "433    15215\n",
       "434    92801\n",
       "435    23601\n",
       "436    20008\n",
       "437    53182\n",
       "438    44663\n",
       "439    50309\n",
       "440    65559\n",
       "441    93660\n",
       "442    11530\n",
       "443    34471\n",
       "444    94108\n",
       "445    95113\n",
       "446    39456\n",
       "447    60631\n",
       "448    44128\n",
       "449    19121\n",
       "450    11576\n",
       "451    91786\n",
       "452    17111\n",
       "453    77077\n",
       "454    40823\n",
       "455    19067\n",
       "456    23602\n",
       "457    76102\n",
       "458    89501\n",
       "459    92073\n",
       "460    94612\n",
       "461    10014\n",
       "462    90007\n",
       "463    65066\n",
       "464    35146\n",
       "465    76645\n",
       "466    55422\n",
       "467    96001\n",
       "468    65001\n",
       "469    28412\n",
       "470    32064\n",
       "471    97205\n",
       "472    39120\n",
       "473    02127\n",
       "474    30303\n",
       "475    94041\n",
       "476    19108\n",
       "477    29501\n",
       "478    95134\n",
       "479    91762\n",
       "480    78212\n",
       "481    74116\n",
       "482    78401\n",
       "483    38118\n",
       "484    28716\n",
       "485    32548\n",
       "486    76706\n",
       "487    66067\n",
       "488    34471\n",
       "489    94549\n",
       "490    10801\n",
       "491    78205\n",
       "492    91505\n",
       "493    83702\n",
       "494    48066\n",
       "495    94403\n",
       "496    95204\n",
       "497    74116\n",
       "498    03852\n",
       "499    86341\n",
       "500    64110\n",
       "501    98109\n",
       "502    68324\n",
       "Name: zip_code, dtype: object"
      ]
     },
     "execution_count": 38,
     "metadata": {},
     "output_type": "execute_result"
    }
   ],
   "source": [
    "pd.set_option('display.max_rows', None)\n",
    "patients_clean.zip_code"
   ]
  },
  {
   "cell_type": "markdown",
   "metadata": {},
   "source": [
    "**Tim Neudorf height is 27 in instead of 72 in**"
   ]
  },
  {
   "cell_type": "markdown",
   "metadata": {},
   "source": [
    "#### Define"
   ]
  },
  {
   "cell_type": "markdown",
   "metadata": {},
   "source": [
    "Replace height for rows in the `patients` table that hav a height of 27 in with 72 in."
   ]
  },
  {
   "cell_type": "markdown",
   "metadata": {},
   "source": [
    "#### Code"
   ]
  },
  {
   "cell_type": "code",
   "execution_count": 39,
   "metadata": {},
   "outputs": [],
   "source": [
    "patients_clean.height = patients_clean.height.replace(27 , 72)"
   ]
  },
  {
   "cell_type": "code",
   "execution_count": 40,
   "metadata": {},
   "outputs": [
    {
     "data": {
      "text/html": [
       "<div>\n",
       "<style scoped>\n",
       "    .dataframe tbody tr th:only-of-type {\n",
       "        vertical-align: middle;\n",
       "    }\n",
       "\n",
       "    .dataframe tbody tr th {\n",
       "        vertical-align: top;\n",
       "    }\n",
       "\n",
       "    .dataframe thead th {\n",
       "        text-align: right;\n",
       "    }\n",
       "</style>\n",
       "<table border=\"1\" class=\"dataframe\">\n",
       "  <thead>\n",
       "    <tr style=\"text-align: right;\">\n",
       "      <th></th>\n",
       "      <th>patient_id</th>\n",
       "      <th>assigned_sex</th>\n",
       "      <th>given_name</th>\n",
       "      <th>surname</th>\n",
       "      <th>address</th>\n",
       "      <th>city</th>\n",
       "      <th>state</th>\n",
       "      <th>zip_code</th>\n",
       "      <th>country</th>\n",
       "      <th>birthdate</th>\n",
       "      <th>weight</th>\n",
       "      <th>height</th>\n",
       "      <th>bmi</th>\n",
       "      <th>phone_number</th>\n",
       "      <th>email</th>\n",
       "    </tr>\n",
       "  </thead>\n",
       "  <tbody>\n",
       "    <tr>\n",
       "      <th>4</th>\n",
       "      <td>5</td>\n",
       "      <td>male</td>\n",
       "      <td>Tim</td>\n",
       "      <td>Neudorf</td>\n",
       "      <td>1428 Turkey Pen Lane</td>\n",
       "      <td>Dothan</td>\n",
       "      <td>AL</td>\n",
       "      <td>36303</td>\n",
       "      <td>United States</td>\n",
       "      <td>2/18/1928</td>\n",
       "      <td>192.3</td>\n",
       "      <td>72</td>\n",
       "      <td>26.1</td>\n",
       "      <td>334-515-7487</td>\n",
       "      <td>TimNeudorf@cuvox.de</td>\n",
       "    </tr>\n",
       "  </tbody>\n",
       "</table>\n",
       "</div>"
      ],
      "text/plain": [
       "   patient_id assigned_sex given_name  surname               address    city  \\\n",
       "4           5         male        Tim  Neudorf  1428 Turkey Pen Lane  Dothan   \n",
       "\n",
       "  state zip_code        country  birthdate  weight  height   bmi  \\\n",
       "4    AL    36303  United States  2/18/1928   192.3      72  26.1   \n",
       "\n",
       "   phone_number                email  \n",
       "4  334-515-7487  TimNeudorf@cuvox.de  "
      ]
     },
     "execution_count": 40,
     "metadata": {},
     "output_type": "execute_result"
    }
   ],
   "source": [
    "patients_clean.query('surname == \"Neudorf\"')"
   ]
  },
  {
   "cell_type": "markdown",
   "metadata": {},
   "source": [
    "**Full state names sometimes, abbreviations other times**"
   ]
  },
  {
   "cell_type": "markdown",
   "metadata": {},
   "source": [
    "#### Define"
   ]
  },
  {
   "cell_type": "markdown",
   "metadata": {},
   "source": [
    "Apply a function that converts full state name to state abbreviation for California, New York, Illinois, Florida, and Nebraska."
   ]
  },
  {
   "cell_type": "markdown",
   "metadata": {},
   "source": [
    "#### Code"
   ]
  },
  {
   "cell_type": "code",
   "execution_count": 41,
   "metadata": {},
   "outputs": [],
   "source": [
    "state_abbrev = {'California' : 'CA' ,\n",
    "               'New York' : 'NY' ,\n",
    "               'Illinois' : 'IL' ,\n",
    "               'Florida' : 'FL' ,\n",
    "               'Nebraska' : 'NE'}"
   ]
  },
  {
   "cell_type": "code",
   "execution_count": 42,
   "metadata": {},
   "outputs": [],
   "source": [
    "def abbreviate_state(patient):\n",
    "    if patient['state'] in state_abbrev.keys():\n",
    "        abbrev = state_abbrev[patient['state']]\n",
    "        return abbrev\n",
    "    else:\n",
    "        return patient['state']"
   ]
  },
  {
   "cell_type": "code",
   "execution_count": 43,
   "metadata": {},
   "outputs": [],
   "source": [
    "patients_clean['state'] = patients_clean.apply(abbreviate_state , axis = 1)"
   ]
  },
  {
   "cell_type": "markdown",
   "metadata": {},
   "source": [
    "#### Test"
   ]
  },
  {
   "cell_type": "code",
   "execution_count": 44,
   "metadata": {},
   "outputs": [
    {
     "data": {
      "text/plain": [
       "CA    60\n",
       "NY    47\n",
       "TX    32\n",
       "IL    24\n",
       "FL    22\n",
       "MA    22\n",
       "PA    18\n",
       "GA    15\n",
       "OH    14\n",
       "OK    13\n",
       "LA    13\n",
       "MI    13\n",
       "NJ    12\n",
       "VA    11\n",
       "MS    10\n",
       "WI    10\n",
       "MN     9\n",
       "AL     9\n",
       "TN     9\n",
       "IN     9\n",
       "WA     8\n",
       "NC     8\n",
       "KY     8\n",
       "MO     7\n",
       "NV     6\n",
       "NE     6\n",
       "KS     6\n",
       "ID     6\n",
       "CT     5\n",
       "IA     5\n",
       "SC     5\n",
       "RI     4\n",
       "ME     4\n",
       "AZ     4\n",
       "AR     4\n",
       "CO     4\n",
       "ND     4\n",
       "WV     3\n",
       "OR     3\n",
       "DE     3\n",
       "MD     3\n",
       "SD     3\n",
       "MT     2\n",
       "DC     2\n",
       "VT     2\n",
       "WY     1\n",
       "AK     1\n",
       "NH     1\n",
       "NM     1\n",
       "Name: state, dtype: int64"
      ]
     },
     "execution_count": 44,
     "metadata": {},
     "output_type": "execute_result"
    }
   ],
   "source": [
    "patients_clean.state.value_counts()"
   ]
  },
  {
   "cell_type": "markdown",
   "metadata": {},
   "source": [
    "#### Dsvid Gustafson"
   ]
  },
  {
   "cell_type": "markdown",
   "metadata": {},
   "source": [
    "#### Define"
   ]
  },
  {
   "cell_type": "markdown",
   "metadata": {},
   "source": [
    "Replace given name for rows in the `patients` table that have a given name of 'Dsvid' with 'David'"
   ]
  },
  {
   "cell_type": "markdown",
   "metadata": {},
   "source": [
    "#### Code"
   ]
  },
  {
   "cell_type": "code",
   "execution_count": 45,
   "metadata": {},
   "outputs": [],
   "source": [
    "patients_clean.given_name = patients_clean.given_name.replace('Dsvid' , 'David')"
   ]
  },
  {
   "cell_type": "markdown",
   "metadata": {},
   "source": [
    "#### Test"
   ]
  },
  {
   "cell_type": "code",
   "execution_count": 46,
   "metadata": {},
   "outputs": [
    {
     "data": {
      "text/html": [
       "<div>\n",
       "<style scoped>\n",
       "    .dataframe tbody tr th:only-of-type {\n",
       "        vertical-align: middle;\n",
       "    }\n",
       "\n",
       "    .dataframe tbody tr th {\n",
       "        vertical-align: top;\n",
       "    }\n",
       "\n",
       "    .dataframe thead th {\n",
       "        text-align: right;\n",
       "    }\n",
       "</style>\n",
       "<table border=\"1\" class=\"dataframe\">\n",
       "  <thead>\n",
       "    <tr style=\"text-align: right;\">\n",
       "      <th></th>\n",
       "      <th>patient_id</th>\n",
       "      <th>assigned_sex</th>\n",
       "      <th>given_name</th>\n",
       "      <th>surname</th>\n",
       "      <th>address</th>\n",
       "      <th>city</th>\n",
       "      <th>state</th>\n",
       "      <th>zip_code</th>\n",
       "      <th>country</th>\n",
       "      <th>birthdate</th>\n",
       "      <th>weight</th>\n",
       "      <th>height</th>\n",
       "      <th>bmi</th>\n",
       "      <th>phone_number</th>\n",
       "      <th>email</th>\n",
       "    </tr>\n",
       "  </thead>\n",
       "  <tbody>\n",
       "    <tr>\n",
       "      <th>8</th>\n",
       "      <td>9</td>\n",
       "      <td>male</td>\n",
       "      <td>David</td>\n",
       "      <td>Gustafsson</td>\n",
       "      <td>1790 Nutter Street</td>\n",
       "      <td>Kansas City</td>\n",
       "      <td>MO</td>\n",
       "      <td>64105</td>\n",
       "      <td>United States</td>\n",
       "      <td>3/6/1937</td>\n",
       "      <td>163.9</td>\n",
       "      <td>66</td>\n",
       "      <td>26.5</td>\n",
       "      <td>816-265-9578</td>\n",
       "      <td>DavidGustafsson@armyspy.com</td>\n",
       "    </tr>\n",
       "  </tbody>\n",
       "</table>\n",
       "</div>"
      ],
      "text/plain": [
       "   patient_id assigned_sex given_name     surname             address  \\\n",
       "8           9         male      David  Gustafsson  1790 Nutter Street   \n",
       "\n",
       "          city state zip_code        country birthdate  weight  height   bmi  \\\n",
       "8  Kansas City    MO    64105  United States  3/6/1937   163.9      66  26.5   \n",
       "\n",
       "   phone_number                        email  \n",
       "8  816-265-9578  DavidGustafsson@armyspy.com  "
      ]
     },
     "execution_count": 46,
     "metadata": {},
     "output_type": "execute_result"
    }
   ],
   "source": [
    "patients_clean.query('surname == \"Gustafsson\"')"
   ]
  },
  {
   "cell_type": "markdown",
   "metadata": {},
   "source": [
    "**Erroneous datatypes (asskgned sex, state, zip_code, and birthdate colomns) and Erroneous datatypes (aoralin and novodra columns) and The letter 'u' in starting and ending dose for Auralin and Novodra**"
   ]
  },
  {
   "cell_type": "markdown",
   "metadata": {},
   "source": [
    "#### Define"
   ]
  },
  {
   "cell_type": "markdown",
   "metadata": {},
   "source": [
    "Convert assigned sex and state to categorical data types. Zip code data type was already addressed avobe. Convert birthdate to determine data type. Strip the letter 'u' in start dose and convert those columns to data type integer."
   ]
  },
  {
   "cell_type": "markdown",
   "metadata": {},
   "source": [
    "#### Code"
   ]
  },
  {
   "cell_type": "code",
   "execution_count": 47,
   "metadata": {},
   "outputs": [],
   "source": [
    "#To category\n",
    "patients_clean.assigned_sex = patients_clean.assigned_sex.astype('category')\n",
    "patients_clean.state = patients_clean.state.astype('category')\n",
    "\n",
    "# To determine\n",
    "patients_clean.birthdate = pd.to_datetime(patients_clean.birthdate)\n",
    "\n",
    "# Strip u and to integer\n",
    "treatments_clean.dose_start = treatments_clean.dose_start.str.strip('u').astype(int)\n",
    "treatments_clean.dose_end = treatments_clean.dose_end.str.strip('u').astype(int)"
   ]
  },
  {
   "cell_type": "markdown",
   "metadata": {},
   "source": [
    "#### Test"
   ]
  },
  {
   "cell_type": "code",
   "execution_count": 49,
   "metadata": {},
   "outputs": [
    {
     "name": "stdout",
     "output_type": "stream",
     "text": [
      "<class 'pandas.core.frame.DataFrame'>\n",
      "RangeIndex: 503 entries, 0 to 502\n",
      "Data columns (total 15 columns):\n",
      " #   Column        Non-Null Count  Dtype         \n",
      "---  ------        --------------  -----         \n",
      " 0   patient_id    503 non-null    int64         \n",
      " 1   assigned_sex  503 non-null    category      \n",
      " 2   given_name    503 non-null    object        \n",
      " 3   surname       503 non-null    object        \n",
      " 4   address       491 non-null    object        \n",
      " 5   city          491 non-null    object        \n",
      " 6   state         491 non-null    category      \n",
      " 7   zip_code      491 non-null    object        \n",
      " 8   country       491 non-null    object        \n",
      " 9   birthdate     503 non-null    datetime64[ns]\n",
      " 10  weight        503 non-null    float64       \n",
      " 11  height        503 non-null    int64         \n",
      " 12  bmi           503 non-null    float64       \n",
      " 13  phone_number  491 non-null    object        \n",
      " 14  email         491 non-null    object        \n",
      "dtypes: category(2), datetime64[ns](1), float64(2), int64(2), object(8)\n",
      "memory usage: 53.9+ KB\n"
     ]
    }
   ],
   "source": [
    "patients_clean.info()"
   ]
  },
  {
   "cell_type": "code",
   "execution_count": 175,
   "metadata": {},
   "outputs": [
    {
     "data": {
      "text/html": [
       "<div>\n",
       "<style scoped>\n",
       "    .dataframe tbody tr th:only-of-type {\n",
       "        vertical-align: middle;\n",
       "    }\n",
       "\n",
       "    .dataframe tbody tr th {\n",
       "        vertical-align: top;\n",
       "    }\n",
       "\n",
       "    .dataframe thead th {\n",
       "        text-align: right;\n",
       "    }\n",
       "</style>\n",
       "<table border=\"1\" class=\"dataframe\">\n",
       "  <thead>\n",
       "    <tr style=\"text-align: right;\">\n",
       "      <th></th>\n",
       "      <th>hba1c_start</th>\n",
       "      <th>hba1c_end</th>\n",
       "      <th>hba1c_change</th>\n",
       "      <th>treatment</th>\n",
       "      <th>dose_start</th>\n",
       "      <th>dose_end</th>\n",
       "      <th>adverse_reaction</th>\n",
       "      <th>patient_id</th>\n",
       "    </tr>\n",
       "  </thead>\n",
       "  <tbody>\n",
       "    <tr>\n",
       "      <th>0</th>\n",
       "      <td>7.63</td>\n",
       "      <td>7.2</td>\n",
       "      <td>0.43</td>\n",
       "      <td>auralin</td>\n",
       "      <td>41</td>\n",
       "      <td>48</td>\n",
       "      <td>NaN</td>\n",
       "      <td>225</td>\n",
       "    </tr>\n",
       "  </tbody>\n",
       "</table>\n",
       "</div>"
      ],
      "text/plain": [
       "   hba1c_start  hba1c_end  hba1c_change treatment  dose_start  dose_end  \\\n",
       "0         7.63        7.2          0.43   auralin          41        48   \n",
       "\n",
       "  adverse_reaction  patient_id  \n",
       "0              NaN         225  "
      ]
     },
     "execution_count": 175,
     "metadata": {},
     "output_type": "execute_result"
    }
   ],
   "source": [
    "treatments_clean.head(1)"
   ]
  },
  {
   "cell_type": "markdown",
   "metadata": {},
   "source": [
    "#### Multiple phone number formats"
   ]
  },
  {
   "cell_type": "markdown",
   "metadata": {},
   "source": [
    "#### Define"
   ]
  },
  {
   "cell_type": "markdown",
   "metadata": {},
   "source": [
    "Strip all \" \", \"-\", (\", \"), and \"+\" and store each number without any formatting. Pad the phone nunber with 1 if the length of the number is 10 digits (for country code)."
   ]
  },
  {
   "cell_type": "code",
   "execution_count": 53,
   "metadata": {},
   "outputs": [],
   "source": [
    "patients_clean.phone_number = patients_clean.phone_number.str.replace(r'\\D+' , '').str.pad(11 , fillchar = '1')"
   ]
  },
  {
   "cell_type": "markdown",
   "metadata": {},
   "source": [
    "#### Test"
   ]
  },
  {
   "cell_type": "code",
   "execution_count": 54,
   "metadata": {},
   "outputs": [
    {
     "data": {
      "text/plain": [
       "0    19517199170\n",
       "1    12175693204\n",
       "2    14023636804\n",
       "3    17326368246\n",
       "4    13345157487\n",
       "Name: phone_number, dtype: object"
      ]
     },
     "execution_count": 54,
     "metadata": {},
     "output_type": "execute_result"
    }
   ],
   "source": [
    "patients_clean.phone_number.head()"
   ]
  },
  {
   "cell_type": "markdown",
   "metadata": {},
   "source": [
    "#### Default John Doe data"
   ]
  },
  {
   "cell_type": "markdown",
   "metadata": {},
   "source": [
    "#### Define"
   ]
  },
  {
   "cell_type": "markdown",
   "metadata": {},
   "source": [
    "Remove the non-recoverable John Doe records from the `patients` table."
   ]
  },
  {
   "cell_type": "markdown",
   "metadata": {},
   "source": [
    "#### Code"
   ]
  },
  {
   "cell_type": "code",
   "execution_count": 55,
   "metadata": {},
   "outputs": [],
   "source": [
    "patients_clean = patients_clean[patients_clean.surname != 'Doe']"
   ]
  },
  {
   "cell_type": "markdown",
   "metadata": {},
   "source": [
    "#### Test"
   ]
  },
  {
   "cell_type": "code",
   "execution_count": 56,
   "metadata": {},
   "outputs": [
    {
     "data": {
      "text/plain": [
       "Jakobsen             3\n",
       "Taylor               3\n",
       "Liễu                 2\n",
       "Lund                 2\n",
       "Nilsen               2\n",
       "Parker               2\n",
       "Bùi                  2\n",
       "Hueber               2\n",
       "Collins              2\n",
       "Souza                2\n",
       "Schiavone            2\n",
       "Dratchev             2\n",
       "Lương                2\n",
       "Tạ                   2\n",
       "Batukayev            2\n",
       "Gersten              2\n",
       "Cindrić              2\n",
       "Lâm                  2\n",
       "Johnson              2\n",
       "Grímsdóttir          2\n",
       "Correia              2\n",
       "Tucker               2\n",
       "Kadyrov              2\n",
       "Ogochukwu            2\n",
       "Woźniak              2\n",
       "Kowalczyk            2\n",
       "Aranda               2\n",
       "Silva                2\n",
       "Berg                 2\n",
       "Cabrera              2\n",
       "Sokołowska           1\n",
       "Adams                1\n",
       "Ch'eng               1\n",
       "Werner               1\n",
       "Wilkinson            1\n",
       "Mansour              1\n",
       "Yudina               1\n",
       "Borgen               1\n",
       "Csorba               1\n",
       "Uspenskaya           1\n",
       "Kifle                1\n",
       "Abdulov              1\n",
       "Leppäluoto           1\n",
       "Mensa                1\n",
       "Kašná                1\n",
       "Haugen               1\n",
       "Onyekaozulu          1\n",
       "Novosel              1\n",
       "Tikhonov             1\n",
       "Dimmen               1\n",
       "Day                  1\n",
       "Onwughara            1\n",
       "Casárez              1\n",
       "Grunewald            1\n",
       "Mathiesen            1\n",
       "Eskelinen            1\n",
       "Henzen               1\n",
       "Guðbrandsson         1\n",
       "Iwata                1\n",
       "Gibson               1\n",
       "Tromp                1\n",
       "Russo                1\n",
       "Knudsen              1\n",
       "Bidwill              1\n",
       "Chinedum             1\n",
       "Sandgreen            1\n",
       "Radislav             1\n",
       "Scheltens            1\n",
       "Wong                 1\n",
       "Ehrlichmann          1\n",
       "Chidi                1\n",
       "Karjalainen          1\n",
       "Allaire              1\n",
       "Nordin               1\n",
       "Pospíšil             1\n",
       "Yonatan              1\n",
       "Magyar               1\n",
       "Bowden               1\n",
       "Mata                 1\n",
       "Šubrtová             1\n",
       "Herman               1\n",
       "Vestergaard          1\n",
       "Baum                 1\n",
       "Tryggvadóttir        1\n",
       "Eidem                1\n",
       "Nucci                1\n",
       "Flamand              1\n",
       "Glockner             1\n",
       "Lombardi             1\n",
       "Eldarkhanov          1\n",
       "Chung                1\n",
       "Rahal                1\n",
       "Compagnon            1\n",
       "Miramontes           1\n",
       "Freud                1\n",
       "Majewski             1\n",
       "Edwards              1\n",
       "Boyles               1\n",
       "Ouwendijk            1\n",
       "Cain                 1\n",
       "Labrosse             1\n",
       "Selassie             1\n",
       "Schneider            1\n",
       "Hori                 1\n",
       "Seppälä              1\n",
       "Laine                1\n",
       "Gustafsson           1\n",
       "Wubbels              1\n",
       "Mancini              1\n",
       "McIntosh             1\n",
       "Lorenzo              1\n",
       "Morita               1\n",
       "Cotton               1\n",
       "Abraham              1\n",
       "Scholz               1\n",
       "Koivunen             1\n",
       "Villalpando          1\n",
       "Endrizzi             1\n",
       "Ghanem               1\n",
       "Moquin               1\n",
       "Hyypiä               1\n",
       "Vaneker              1\n",
       "Geisler              1\n",
       "Rice                 1\n",
       "Hsueh                1\n",
       "Csonka               1\n",
       "Vieira               1\n",
       "Yuan                 1\n",
       "Koldenhof            1\n",
       "Nebeolisa            1\n",
       "Phan                 1\n",
       "Nyborg               1\n",
       "Salib                1\n",
       "Shuler               1\n",
       "Zhdanov              1\n",
       "Lei                  1\n",
       "Filatov              1\n",
       "Knutsen              1\n",
       "Hsu                  1\n",
       "Írisarson            1\n",
       "Ruais                1\n",
       "Ekechukwu            1\n",
       "Horvat               1\n",
       "Kung                 1\n",
       "Bonami               1\n",
       "Laatikainen          1\n",
       "Lindgren             1\n",
       "Zaitseva             1\n",
       "Phạm                 1\n",
       "Hunter               1\n",
       "Obinna               1\n",
       "Shishani             1\n",
       "Fisher               1\n",
       "Lončar               1\n",
       "Afamefuna            1\n",
       "Authier              1\n",
       "Klobučar             1\n",
       "Schmitt              1\n",
       "Navrátil             1\n",
       "Haraguchi            1\n",
       "Efrem                1\n",
       "Teng                 1\n",
       "Blix                 1\n",
       "Combs                1\n",
       "Montez               1\n",
       "Quintanilla          1\n",
       "Naifeh               1\n",
       "Polak                1\n",
       "Mai                  1\n",
       "Yao                  1\n",
       "Guzman               1\n",
       "Kristensen           1\n",
       "Arsanukayev          1\n",
       "Azevedo              1\n",
       "Reynoso              1\n",
       "Koffeman             1\n",
       "Rushisvili           1\n",
       "﻿Dvořák              1\n",
       "Smith                1\n",
       "Martinsen            1\n",
       "Baumgaertner         1\n",
       "Hrafnsdóttir         1\n",
       "Gyenes               1\n",
       "Mayberry             1\n",
       "Miller               1\n",
       "Sleiman              1\n",
       "Halldórsdóttir       1\n",
       "Tsukada              1\n",
       "McGregor             1\n",
       "Afanasyeva           1\n",
       "Kozłowska            1\n",
       "Khoury               1\n",
       "Addison              1\n",
       "Nash                 1\n",
       "Lukić                1\n",
       "Vesecká              1\n",
       "Kelly                1\n",
       "Priest               1\n",
       "Tomaszewski          1\n",
       "Ekwueme              1\n",
       "Rukavina             1\n",
       "Araujo               1\n",
       "Bole                 1\n",
       "Thạch                1\n",
       "Mortensen            1\n",
       "Holm                 1\n",
       "Fodor                1\n",
       "Bisliev              1\n",
       "Györfy               1\n",
       "Fournier             1\n",
       "Tuma                 1\n",
       "Lange                1\n",
       "Allen                1\n",
       "Galić                1\n",
       "Mattila              1\n",
       "Harold               1\n",
       "Miranda              1\n",
       "Zsinkó               1\n",
       "Reilly               1\n",
       "Poulsen              1\n",
       "Gormanston           1\n",
       "Alanis               1\n",
       "Maríasson            1\n",
       "Jephcott             1\n",
       "Osman                1\n",
       "Quynh                1\n",
       "Gaber                1\n",
       "McKay                1\n",
       "Enoksen              1\n",
       "Ménard               1\n",
       "Adamski              1\n",
       "Mehari               1\n",
       "Baer                 1\n",
       "Fomin                1\n",
       "Montagu              1\n",
       "Vaara                1\n",
       "Galvez               1\n",
       "Amari                1\n",
       "Kishiev              1\n",
       "Vukelić              1\n",
       "Christie             1\n",
       "de Keizer            1\n",
       "Mustafa              1\n",
       "Oates                1\n",
       "Bjarkason            1\n",
       "Rokavc               1\n",
       "Amanuel              1\n",
       "Gunnarsson           1\n",
       "Guerra               1\n",
       "Rap                  1\n",
       "Takenaka             1\n",
       "Ferreira             1\n",
       "Sauvé                1\n",
       "Bubanj               1\n",
       "Bogolyubova          1\n",
       "Musliyevich          1\n",
       "Piirainen            1\n",
       "Mueller              1\n",
       "Karlsen              1\n",
       "Olofsson             1\n",
       "Leroux               1\n",
       "Bois                 1\n",
       "Lynge                1\n",
       "Pinto                1\n",
       "Nielsen              1\n",
       "Østergaard           1\n",
       "Sjöberg              1\n",
       "Su                   1\n",
       "Cabán                1\n",
       "O'Brian              1\n",
       "Wagner               1\n",
       "Clapp                1\n",
       "Lê                   1\n",
       "Czerwinska           1\n",
       "Andreyeva            1\n",
       "Woodward             1\n",
       "Brhane               1\n",
       "Crawford             1\n",
       "Walczak              1\n",
       "Napolitani           1\n",
       "Jørgensen            1\n",
       "Wolfe                1\n",
       "Tar                  1\n",
       "Gegič                1\n",
       "Richardson           1\n",
       "Þráinsson            1\n",
       "Kalb                 1\n",
       "Carvalho             1\n",
       "Citizen              1\n",
       "Chandler             1\n",
       "Mironov              1\n",
       "van der Lubbe        1\n",
       "Chang                1\n",
       "Debord               1\n",
       "Zetticci             1\n",
       "Žibrik               1\n",
       "Allan                1\n",
       "House                1\n",
       "Ščančar              1\n",
       "Pecha                1\n",
       "Kristiansen          1\n",
       "Nørgaard             1\n",
       "Guðjónsdóttir        1\n",
       "Christensen          1\n",
       "MacDonald            1\n",
       "Petrussen            1\n",
       "Balagić              1\n",
       "Luwam                1\n",
       "Asfour               1\n",
       "Lindström            1\n",
       "Chin                 1\n",
       "Koivuniemi           1\n",
       "Macleod              1\n",
       "Komavec              1\n",
       "Lillebø              1\n",
       "Sultygov             1\n",
       "Sung                 1\n",
       "Maslov               1\n",
       "Okoli                1\n",
       "Wiśniewska           1\n",
       "Sheppard             1\n",
       "Ferguson             1\n",
       "Wolf                 1\n",
       "Nakahara             1\n",
       "Grubišić             1\n",
       "Vũ                   1\n",
       "Nowakowski           1\n",
       "Hrdá                 1\n",
       "Bilodeau             1\n",
       "Solberg              1\n",
       "Lucchese             1\n",
       "Zimmerman            1\n",
       "Udinesi              1\n",
       "Sørensen             1\n",
       "van de Wiel          1\n",
       "Moore                1\n",
       "Tansey               1\n",
       "Jakšić               1\n",
       "Bakos                1\n",
       "Webb                 1\n",
       "Onio                 1\n",
       "Luoma                1\n",
       "Pecinová             1\n",
       "Synek                1\n",
       "Mikkelsen            1\n",
       "Stanić               1\n",
       "Aličajić             1\n",
       "Herczegh             1\n",
       "Bouw                 1\n",
       "Terrazas             1\n",
       "Heilmann             1\n",
       "Ribeiro              1\n",
       "Isaksson             1\n",
       "Achebe               1\n",
       "Nakayama             1\n",
       "Ek                   1\n",
       "Fejes                1\n",
       "Brodahl              1\n",
       "Beauvais             1\n",
       "Heimisson            1\n",
       "Kos                  1\n",
       "Sági                 1\n",
       "Grant                1\n",
       "Wysocki              1\n",
       "Kinfe                1\n",
       "Madrid               1\n",
       "Fiorentino           1\n",
       "Adonay               1\n",
       "Ingason              1\n",
       "Bazarova             1\n",
       "Rocha                1\n",
       "Lansell              1\n",
       "Dreher               1\n",
       "Carreiro             1\n",
       "Antoun               1\n",
       "Martinsson           1\n",
       "Murakami             1\n",
       "Villadsen            1\n",
       "Pak                  1\n",
       "Grabljevec           1\n",
       "Johnsrud             1\n",
       "Pérez                1\n",
       "Uspensky             1\n",
       "Ko                   1\n",
       "Azuma                1\n",
       "Wieczorek            1\n",
       "She                  1\n",
       "Hermansen            1\n",
       "Costa                1\n",
       "Archer               1\n",
       "Hughes               1\n",
       "Ferrari              1\n",
       "Markus               1\n",
       "Hill                 1\n",
       "Skarphéðinsdóttir    1\n",
       "Milne                1\n",
       "Miles                1\n",
       "Hopkins              1\n",
       "Higa                 1\n",
       "Nnonso               1\n",
       "Teichelmann          1\n",
       "Luman                1\n",
       "Lavrentyev           1\n",
       "Német                1\n",
       "Totth                1\n",
       "Jindrová             1\n",
       "Hansen               1\n",
       "Sykes                1\n",
       "Sakai                1\n",
       "Mathieu              1\n",
       "Tománková            1\n",
       "Enríquez             1\n",
       "Wellish              1\n",
       "Jackson              1\n",
       "Gomes                1\n",
       "Roy                  1\n",
       "Peters               1\n",
       "Saenger              1\n",
       "Jurković             1\n",
       "Woldendorp           1\n",
       "Filípek              1\n",
       "Nicholls             1\n",
       "Neudorf              1\n",
       "Marchesi             1\n",
       "Cumpston             1\n",
       "Traustadóttir        1\n",
       "Touma                1\n",
       "Cunha                1\n",
       "Svensson             1\n",
       "Mehler               1\n",
       "Jensen               1\n",
       "Ono                  1\n",
       "Holden               1\n",
       "Henriksen            1\n",
       "Ibragimov            1\n",
       "Konovšek             1\n",
       "Prince               1\n",
       "Fakhoury             1\n",
       "Horikawa             1\n",
       "Michalčíková         1\n",
       "Izmailov             1\n",
       "Ziegler              1\n",
       "Tabata               1\n",
       "Resanovič            1\n",
       "Hervinsson           1\n",
       "Dandonneau           1\n",
       "Glaser               1\n",
       "Lundy                1\n",
       "Isa                  1\n",
       "Fesahaye             1\n",
       "Nebay                1\n",
       "Andersen             1\n",
       "Barlow               1\n",
       "Rosario              1\n",
       "Štěpánek             1\n",
       "Petersen             1\n",
       "Löfgren              1\n",
       "Tobeolisa            1\n",
       "Wiśniewski           1\n",
       "Šlezinger            1\n",
       "Mobourne             1\n",
       "Frederiksen          1\n",
       "Fujiwara             1\n",
       "Barsukov             1\n",
       "Ibeamaka             1\n",
       "Name: surname, dtype: int64"
      ]
     },
     "execution_count": 56,
     "metadata": {},
     "output_type": "execute_result"
    }
   ],
   "source": [
    "patients_clean.surname.value_counts()"
   ]
  },
  {
   "cell_type": "markdown",
   "metadata": {},
   "source": [
    "#### Multiple records for Jackobsen, Gersten, Taylor"
   ]
  },
  {
   "cell_type": "markdown",
   "metadata": {},
   "source": [
    "#### Define"
   ]
  },
  {
   "cell_type": "markdown",
   "metadata": {},
   "source": [
    "Remove the Jake Jakobsen, Pat Gersten, and Sandy Taylor rows from the `patients` table. These are the nicknames, which happen to also not be in the `treatments` table (removing the wrong name would create a consistency issue between the `patients` and `treatments` table). These are all the second occurrence of the duplicate. These are also only occurences of non-null duplicate addresses."
   ]
  },
  {
   "cell_type": "markdown",
   "metadata": {},
   "source": [
    "#### Code"
   ]
  },
  {
   "cell_type": "code",
   "execution_count": 59,
   "metadata": {},
   "outputs": [],
   "source": [
    "# tilde means not: http://pandas.pydata.org/pandas-docs/stable/indexing.html#boolean-indexing\n",
    "patients_clean = patients_clean[~((patients_clean.address.duplicated())\n",
    "                                  & patients_clean.address.notnull())]"
   ]
  },
  {
   "cell_type": "markdown",
   "metadata": {},
   "source": [
    "#### Test"
   ]
  },
  {
   "cell_type": "code",
   "execution_count": 65,
   "metadata": {},
   "outputs": [
    {
     "data": {
      "text/html": [
       "<div>\n",
       "<style scoped>\n",
       "    .dataframe tbody tr th:only-of-type {\n",
       "        vertical-align: middle;\n",
       "    }\n",
       "\n",
       "    .dataframe tbody tr th {\n",
       "        vertical-align: top;\n",
       "    }\n",
       "\n",
       "    .dataframe thead th {\n",
       "        text-align: right;\n",
       "    }\n",
       "</style>\n",
       "<table border=\"1\" class=\"dataframe\">\n",
       "  <thead>\n",
       "    <tr style=\"text-align: right;\">\n",
       "      <th></th>\n",
       "      <th>patient_id</th>\n",
       "      <th>assigned_sex</th>\n",
       "      <th>given_name</th>\n",
       "      <th>surname</th>\n",
       "      <th>address</th>\n",
       "      <th>city</th>\n",
       "      <th>state</th>\n",
       "      <th>zip_code</th>\n",
       "      <th>country</th>\n",
       "      <th>birthdate</th>\n",
       "      <th>weight</th>\n",
       "      <th>height</th>\n",
       "      <th>bmi</th>\n",
       "      <th>phone_number</th>\n",
       "      <th>email</th>\n",
       "    </tr>\n",
       "  </thead>\n",
       "  <tbody>\n",
       "    <tr>\n",
       "      <th>24</th>\n",
       "      <td>25</td>\n",
       "      <td>male</td>\n",
       "      <td>Jakob</td>\n",
       "      <td>Jakobsen</td>\n",
       "      <td>648 Old Dear Lane</td>\n",
       "      <td>Port Jervis</td>\n",
       "      <td>NY</td>\n",
       "      <td>12771</td>\n",
       "      <td>United States</td>\n",
       "      <td>1985-08-01</td>\n",
       "      <td>155.8</td>\n",
       "      <td>67</td>\n",
       "      <td>24.4</td>\n",
       "      <td>18458587707</td>\n",
       "      <td>JakobCJakobsen@einrot.com</td>\n",
       "    </tr>\n",
       "    <tr>\n",
       "      <th>432</th>\n",
       "      <td>433</td>\n",
       "      <td>female</td>\n",
       "      <td>Karen</td>\n",
       "      <td>Jakobsen</td>\n",
       "      <td>1690 Fannie Street</td>\n",
       "      <td>Houston</td>\n",
       "      <td>TX</td>\n",
       "      <td>77020</td>\n",
       "      <td>United States</td>\n",
       "      <td>1962-11-25</td>\n",
       "      <td>185.2</td>\n",
       "      <td>67</td>\n",
       "      <td>29.0</td>\n",
       "      <td>19792030438</td>\n",
       "      <td>KarenJakobsen@jourrapide.com</td>\n",
       "    </tr>\n",
       "  </tbody>\n",
       "</table>\n",
       "</div>"
      ],
      "text/plain": [
       "     patient_id assigned_sex given_name   surname             address  \\\n",
       "24           25         male      Jakob  Jakobsen   648 Old Dear Lane   \n",
       "432         433       female      Karen  Jakobsen  1690 Fannie Street   \n",
       "\n",
       "            city state zip_code        country  birthdate  weight  height  \\\n",
       "24   Port Jervis    NY    12771  United States 1985-08-01   155.8      67   \n",
       "432      Houston    TX    77020  United States 1962-11-25   185.2      67   \n",
       "\n",
       "      bmi phone_number                         email  \n",
       "24   24.4  18458587707     JakobCJakobsen@einrot.com  \n",
       "432  29.0  19792030438  KarenJakobsen@jourrapide.com  "
      ]
     },
     "execution_count": 65,
     "metadata": {},
     "output_type": "execute_result"
    }
   ],
   "source": [
    "patients_clean[patients_clean.surname == 'Jakobsen']"
   ]
  },
  {
   "cell_type": "code",
   "execution_count": 64,
   "metadata": {},
   "outputs": [
    {
     "data": {
      "text/html": [
       "<div>\n",
       "<style scoped>\n",
       "    .dataframe tbody tr th:only-of-type {\n",
       "        vertical-align: middle;\n",
       "    }\n",
       "\n",
       "    .dataframe tbody tr th {\n",
       "        vertical-align: top;\n",
       "    }\n",
       "\n",
       "    .dataframe thead th {\n",
       "        text-align: right;\n",
       "    }\n",
       "</style>\n",
       "<table border=\"1\" class=\"dataframe\">\n",
       "  <thead>\n",
       "    <tr style=\"text-align: right;\">\n",
       "      <th></th>\n",
       "      <th>patient_id</th>\n",
       "      <th>assigned_sex</th>\n",
       "      <th>given_name</th>\n",
       "      <th>surname</th>\n",
       "      <th>address</th>\n",
       "      <th>city</th>\n",
       "      <th>state</th>\n",
       "      <th>zip_code</th>\n",
       "      <th>country</th>\n",
       "      <th>birthdate</th>\n",
       "      <th>weight</th>\n",
       "      <th>height</th>\n",
       "      <th>bmi</th>\n",
       "      <th>phone_number</th>\n",
       "      <th>email</th>\n",
       "    </tr>\n",
       "  </thead>\n",
       "  <tbody>\n",
       "    <tr>\n",
       "      <th>97</th>\n",
       "      <td>98</td>\n",
       "      <td>male</td>\n",
       "      <td>Patrick</td>\n",
       "      <td>Gersten</td>\n",
       "      <td>2778 North Avenue</td>\n",
       "      <td>Burr</td>\n",
       "      <td>NE</td>\n",
       "      <td>68324</td>\n",
       "      <td>United States</td>\n",
       "      <td>1954-05-03</td>\n",
       "      <td>138.2</td>\n",
       "      <td>71</td>\n",
       "      <td>19.3</td>\n",
       "      <td>14028484923</td>\n",
       "      <td>PatrickGersten@rhyta.com</td>\n",
       "    </tr>\n",
       "  </tbody>\n",
       "</table>\n",
       "</div>"
      ],
      "text/plain": [
       "    patient_id assigned_sex given_name  surname            address  city  \\\n",
       "97          98         male    Patrick  Gersten  2778 North Avenue  Burr   \n",
       "\n",
       "   state zip_code        country  birthdate  weight  height   bmi  \\\n",
       "97    NE    68324  United States 1954-05-03   138.2      71  19.3   \n",
       "\n",
       "   phone_number                     email  \n",
       "97  14028484923  PatrickGersten@rhyta.com  "
      ]
     },
     "execution_count": 64,
     "metadata": {},
     "output_type": "execute_result"
    }
   ],
   "source": [
    "patients_clean[patients_clean.surname == 'Gersten']"
   ]
  },
  {
   "cell_type": "code",
   "execution_count": 66,
   "metadata": {},
   "outputs": [
    {
     "data": {
      "text/html": [
       "<div>\n",
       "<style scoped>\n",
       "    .dataframe tbody tr th:only-of-type {\n",
       "        vertical-align: middle;\n",
       "    }\n",
       "\n",
       "    .dataframe tbody tr th {\n",
       "        vertical-align: top;\n",
       "    }\n",
       "\n",
       "    .dataframe thead th {\n",
       "        text-align: right;\n",
       "    }\n",
       "</style>\n",
       "<table border=\"1\" class=\"dataframe\">\n",
       "  <thead>\n",
       "    <tr style=\"text-align: right;\">\n",
       "      <th></th>\n",
       "      <th>patient_id</th>\n",
       "      <th>assigned_sex</th>\n",
       "      <th>given_name</th>\n",
       "      <th>surname</th>\n",
       "      <th>address</th>\n",
       "      <th>city</th>\n",
       "      <th>state</th>\n",
       "      <th>zip_code</th>\n",
       "      <th>country</th>\n",
       "      <th>birthdate</th>\n",
       "      <th>weight</th>\n",
       "      <th>height</th>\n",
       "      <th>bmi</th>\n",
       "      <th>phone_number</th>\n",
       "      <th>email</th>\n",
       "    </tr>\n",
       "  </thead>\n",
       "  <tbody>\n",
       "    <tr>\n",
       "      <th>131</th>\n",
       "      <td>132</td>\n",
       "      <td>female</td>\n",
       "      <td>Sandra</td>\n",
       "      <td>Taylor</td>\n",
       "      <td>2476 Fulton Street</td>\n",
       "      <td>Rainelle</td>\n",
       "      <td>WV</td>\n",
       "      <td>25962</td>\n",
       "      <td>United States</td>\n",
       "      <td>1960-10-23</td>\n",
       "      <td>206.1</td>\n",
       "      <td>64</td>\n",
       "      <td>35.4</td>\n",
       "      <td>13044382648</td>\n",
       "      <td>SandraCTaylor@dayrep.com</td>\n",
       "    </tr>\n",
       "    <tr>\n",
       "      <th>426</th>\n",
       "      <td>427</td>\n",
       "      <td>male</td>\n",
       "      <td>Rogelio</td>\n",
       "      <td>Taylor</td>\n",
       "      <td>4064 Marigold Lane</td>\n",
       "      <td>Miami</td>\n",
       "      <td>FL</td>\n",
       "      <td>33179</td>\n",
       "      <td>United States</td>\n",
       "      <td>1992-09-02</td>\n",
       "      <td>186.6</td>\n",
       "      <td>69</td>\n",
       "      <td>27.6</td>\n",
       "      <td>13054346299</td>\n",
       "      <td>RogelioJTaylor@teleworm.us</td>\n",
       "    </tr>\n",
       "  </tbody>\n",
       "</table>\n",
       "</div>"
      ],
      "text/plain": [
       "     patient_id assigned_sex given_name surname             address      city  \\\n",
       "131         132       female     Sandra  Taylor  2476 Fulton Street  Rainelle   \n",
       "426         427         male    Rogelio  Taylor  4064 Marigold Lane     Miami   \n",
       "\n",
       "    state zip_code        country  birthdate  weight  height   bmi  \\\n",
       "131    WV    25962  United States 1960-10-23   206.1      64  35.4   \n",
       "426    FL    33179  United States 1992-09-02   186.6      69  27.6   \n",
       "\n",
       "    phone_number                       email  \n",
       "131  13044382648    SandraCTaylor@dayrep.com  \n",
       "426  13054346299  RogelioJTaylor@teleworm.us  "
      ]
     },
     "execution_count": 66,
     "metadata": {},
     "output_type": "execute_result"
    }
   ],
   "source": [
    "patients_clean[patients_clean.surname == 'Taylor']"
   ]
  },
  {
   "cell_type": "markdown",
   "metadata": {},
   "source": [
    "#### kgs instead of lbs for Zaitseva weight"
   ]
  },
  {
   "cell_type": "markdown",
   "metadata": {},
   "source": [
    "#### Define"
   ]
  },
  {
   "cell_type": "markdown",
   "metadata": {},
   "source": [
    "Use **advanced indexing** to isolate the row where the surname is Zaitseva and convert the entey in its weight field from kg to lbs."
   ]
  },
  {
   "cell_type": "markdown",
   "metadata": {},
   "source": [
    "#### Code"
   ]
  },
  {
   "cell_type": "code",
   "execution_count": 67,
   "metadata": {},
   "outputs": [],
   "source": [
    "weight_kg = patients_clean.weight.min()\n",
    "mask = patients_clean.surname == 'Zaitseva'\n",
    "column_name = 'weight'\n",
    "patients_clean.loc[mask , column_name] = weight_kg * 2.20462"
   ]
  },
  {
   "cell_type": "markdown",
   "metadata": {},
   "source": [
    "#### Test"
   ]
  },
  {
   "cell_type": "code",
   "execution_count": 68,
   "metadata": {},
   "outputs": [
    {
     "data": {
      "text/plain": [
       "459    102.100000\n",
       "335    102.700000\n",
       "74     103.200000\n",
       "317    106.000000\n",
       "171    106.500000\n",
       "51     107.100000\n",
       "210    107.585456\n",
       "270    108.100000\n",
       "198    108.500000\n",
       "48     109.100000\n",
       "478    109.600000\n",
       "141    110.200000\n",
       "38     111.800000\n",
       "438    112.000000\n",
       "14     112.000000\n",
       "235    112.200000\n",
       "307    112.400000\n",
       "191    112.600000\n",
       "408    113.100000\n",
       "49     113.300000\n",
       "326    114.000000\n",
       "338    114.100000\n",
       "253    117.000000\n",
       "321    118.400000\n",
       "168    118.800000\n",
       "1      118.800000\n",
       "350    119.000000\n",
       "207    119.200000\n",
       "265    120.000000\n",
       "341    120.300000\n",
       "208    121.200000\n",
       "0      121.700000\n",
       "467    122.100000\n",
       "218    122.200000\n",
       "225    122.300000\n",
       "404    123.000000\n",
       "397    123.400000\n",
       "424    123.600000\n",
       "483    123.900000\n",
       "306    124.100000\n",
       "278    124.300000\n",
       "120    124.500000\n",
       "363    124.700000\n",
       "185    125.100000\n",
       "423    125.200000\n",
       "419    126.100000\n",
       "494    126.300000\n",
       "232    126.900000\n",
       "214    126.900000\n",
       "342    127.200000\n",
       "280    128.500000\n",
       "256    128.900000\n",
       "184    128.900000\n",
       "17     129.100000\n",
       "422    129.400000\n",
       "206    129.800000\n",
       "44     129.800000\n",
       "377    130.000000\n",
       "354    130.200000\n",
       "181    130.200000\n",
       "22     130.700000\n",
       "309    130.700000\n",
       "213    131.100000\n",
       "143    131.100000\n",
       "62     131.100000\n",
       "268    132.000000\n",
       "362    132.200000\n",
       "359    132.200000\n",
       "454    132.700000\n",
       "187    133.100000\n",
       "31     133.300000\n",
       "56     133.800000\n",
       "57     134.000000\n",
       "458    134.200000\n",
       "345    134.200000\n",
       "163    134.200000\n",
       "430    135.700000\n",
       "379    136.000000\n",
       "353    136.800000\n",
       "389    136.800000\n",
       "126    137.100000\n",
       "440    137.300000\n",
       "154    137.700000\n",
       "437    137.700000\n",
       "258    137.900000\n",
       "100    137.900000\n",
       "84     138.200000\n",
       "97     138.200000\n",
       "202    138.400000\n",
       "381    138.400000\n",
       "416    138.600000\n",
       "378    138.800000\n",
       "73     139.300000\n",
       "241    139.700000\n",
       "448    139.900000\n",
       "169    140.600000\n",
       "343    140.600000\n",
       "54     141.000000\n",
       "304    141.500000\n",
       "463    142.100000\n",
       "452    142.100000\n",
       "271    142.300000\n",
       "158    142.800000\n",
       "41     143.000000\n",
       "186    143.000000\n",
       "179    143.000000\n",
       "292    143.000000\n",
       "209    143.400000\n",
       "116    143.700000\n",
       "323    143.900000\n",
       "94     144.100000\n",
       "26     144.800000\n",
       "176    145.200000\n",
       "388    145.200000\n",
       "89     145.400000\n",
       "267    145.600000\n",
       "110    146.100000\n",
       "6      146.300000\n",
       "249    146.500000\n",
       "32     147.600000\n",
       "174    147.800000\n",
       "40     147.800000\n",
       "356    148.300000\n",
       "414    148.700000\n",
       "372    149.200000\n",
       "159    149.400000\n",
       "287    149.600000\n",
       "382    149.600000\n",
       "303    149.800000\n",
       "68     149.800000\n",
       "491    149.800000\n",
       "59     150.000000\n",
       "417    150.000000\n",
       "320    150.300000\n",
       "456    150.500000\n",
       "53     150.500000\n",
       "69     150.600000\n",
       "331    150.900000\n",
       "142    150.900000\n",
       "211    151.200000\n",
       "115    151.400000\n",
       "328    151.800000\n",
       "429    152.100000\n",
       "290    152.300000\n",
       "449    152.500000\n",
       "387    152.700000\n",
       "135    152.900000\n",
       "34     152.900000\n",
       "20     153.100000\n",
       "476    153.300000\n",
       "33     153.800000\n",
       "330    153.800000\n",
       "436    154.400000\n",
       "433    154.400000\n",
       "481    154.700000\n",
       "301    154.700000\n",
       "67     154.900000\n",
       "462    154.900000\n",
       "319    154.900000\n",
       "411    154.900000\n",
       "134    154.900000\n",
       "173    155.100000\n",
       "497    155.100000\n",
       "286    155.300000\n",
       "233    155.300000\n",
       "472    155.300000\n",
       "24     155.800000\n",
       "371    156.000000\n",
       "36     156.400000\n",
       "407    156.600000\n",
       "139    156.900000\n",
       "30     156.900000\n",
       "188    157.100000\n",
       "297    157.300000\n",
       "45     157.700000\n",
       "7      158.000000\n",
       "400    158.200000\n",
       "275    158.600000\n",
       "264    158.600000\n",
       "60     159.100000\n",
       "470    159.500000\n",
       "294    159.700000\n",
       "132    159.900000\n",
       "447    160.400000\n",
       "92     160.600000\n",
       "465    160.800000\n",
       "358    160.800000\n",
       "285    160.800000\n",
       "412    161.300000\n",
       "464    161.300000\n",
       "349    161.500000\n",
       "409    161.700000\n",
       "316    162.100000\n",
       "380    162.400000\n",
       "393    162.400000\n",
       "77     162.600000\n",
       "318    162.800000\n",
       "175    163.200000\n",
       "413    163.500000\n",
       "460    163.500000\n",
       "194    163.700000\n",
       "64     163.700000\n",
       "46     163.900000\n",
       "8      163.900000\n",
       "336    164.800000\n",
       "488    165.000000\n",
       "102    165.000000\n",
       "368    165.000000\n",
       "421    165.000000\n",
       "324    165.200000\n",
       "230    165.900000\n",
       "360    165.900000\n",
       "109    166.100000\n",
       "466    166.100000\n",
       "346    166.300000\n",
       "259    166.500000\n",
       "107    167.000000\n",
       "446    167.200000\n",
       "103    167.600000\n",
       "495    168.100000\n",
       "93     168.100000\n",
       "212    168.100000\n",
       "199    168.300000\n",
       "383    168.700000\n",
       "272    168.700000\n",
       "361    169.000000\n",
       "442    169.000000\n",
       "289    170.100000\n",
       "216    170.100000\n",
       "149    170.500000\n",
       "127    170.700000\n",
       "145    170.900000\n",
       "500    171.200000\n",
       "138    171.200000\n",
       "86     171.400000\n",
       "82     171.400000\n",
       "224    171.400000\n",
       "311    171.400000\n",
       "196    171.600000\n",
       "263    171.800000\n",
       "112    172.000000\n",
       "325    172.500000\n",
       "201    172.500000\n",
       "329    172.700000\n",
       "156    172.900000\n",
       "435    173.800000\n",
       "333    174.200000\n",
       "427    174.700000\n",
       "269    175.200000\n",
       "473    175.300000\n",
       "137    175.600000\n",
       "406    175.600000\n",
       "27     175.800000\n",
       "484    175.800000\n",
       "114    176.200000\n",
       "180    176.200000\n",
       "340    176.900000\n",
       "501    176.900000\n",
       "87     176.900000\n",
       "189    177.100000\n",
       "172    177.800000\n",
       "2      177.800000\n",
       "153    177.800000\n",
       "410    178.000000\n",
       "308    178.900000\n",
       "293    179.100000\n",
       "136    179.300000\n",
       "295    180.000000\n",
       "384    180.200000\n",
       "401    180.600000\n",
       "205    180.600000\n",
       "25     180.800000\n",
       "445    180.800000\n",
       "296    181.100000\n",
       "498    181.100000\n",
       "344    181.100000\n",
       "390    181.300000\n",
       "195    181.300000\n",
       "453    181.300000\n",
       "248    181.300000\n",
       "221    181.300000\n",
       "474    181.500000\n",
       "300    181.500000\n",
       "298    182.200000\n",
       "394    182.200000\n",
       "117    182.200000\n",
       "355    182.600000\n",
       "347    183.300000\n",
       "405    183.500000\n",
       "480    183.500000\n",
       "366    183.500000\n",
       "220    183.500000\n",
       "80     183.700000\n",
       "5      183.900000\n",
       "16     183.900000\n",
       "79     183.900000\n",
       "492    184.600000\n",
       "157    184.600000\n",
       "71     184.800000\n",
       "432    185.200000\n",
       "146    185.900000\n",
       "200    186.100000\n",
       "284    186.300000\n",
       "426    186.600000\n",
       "47     186.600000\n",
       "228    186.600000\n",
       "396    186.600000\n",
       "375    186.800000\n",
       "266    187.000000\n",
       "255    187.100000\n",
       "489    187.200000\n",
       "238    187.200000\n",
       "227    187.900000\n",
       "357    187.900000\n",
       "425    188.500000\n",
       "313    188.500000\n",
       "192    188.800000\n",
       "305    189.000000\n",
       "226    189.400000\n",
       "37     189.900000\n",
       "76     190.100000\n",
       "369    190.500000\n",
       "312    190.700000\n",
       "443    191.000000\n",
       "367    191.000000\n",
       "108    191.400000\n",
       "147    191.400000\n",
       "39     191.600000\n",
       "4      192.300000\n",
       "90     192.300000\n",
       "299    192.500000\n",
       "471    192.700000\n",
       "203    192.700000\n",
       "490    192.700000\n",
       "261    192.700000\n",
       "123    193.200000\n",
       "155    193.200000\n",
       "63     193.200000\n",
       "78     193.400000\n",
       "164    193.600000\n",
       "310    193.600000\n",
       "398    193.800000\n",
       "434    193.800000\n",
       "262    194.000000\n",
       "496    194.000000\n",
       "98     194.300000\n",
       "66     194.300000\n",
       "288    194.500000\n",
       "468    194.700000\n",
       "9      194.700000\n",
       "160    195.100000\n",
       "75     195.100000\n",
       "493    195.100000\n",
       "450    195.400000\n",
       "70     195.600000\n",
       "334    195.800000\n",
       "58     196.000000\n",
       "178    197.100000\n",
       "348    197.100000\n",
       "351    197.600000\n",
       "240    198.000000\n",
       "391    198.000000\n",
       "148    198.400000\n",
       "165    198.700000\n",
       "43     198.900000\n",
       "35     198.900000\n",
       "42     199.100000\n",
       "10     199.300000\n",
       "234    199.500000\n",
       "133    199.500000\n",
       "236    199.800000\n",
       "365    200.000000\n",
       "254    200.400000\n",
       "104    200.600000\n",
       "376    200.800000\n",
       "279    200.800000\n",
       "420    200.900000\n",
       "15     201.500000\n",
       "402    201.500000\n",
       "302    201.500000\n",
       "162    201.700000\n",
       "52     202.000000\n",
       "128    202.200000\n",
       "451    202.200000\n",
       "18     202.200000\n",
       "223    202.400000\n",
       "274    202.600000\n",
       "455    203.100000\n",
       "129    203.300000\n",
       "125    203.500000\n",
       "85     203.500000\n",
       "177    203.700000\n",
       "291    203.900000\n",
       "193    203.900000\n",
       "113    204.200000\n",
       "95     205.300000\n",
       "242    205.300000\n",
       "131    206.100000\n",
       "392    206.100000\n",
       "245    206.100000\n",
       "250    206.100000\n",
       "260    206.400000\n",
       "28     206.600000\n",
       "415    206.800000\n",
       "386    207.700000\n",
       "183    207.700000\n",
       "19     208.800000\n",
       "337    209.400000\n",
       "81     209.400000\n",
       "461    209.700000\n",
       "167    209.700000\n",
       "374    210.800000\n",
       "122    211.000000\n",
       "247    211.000000\n",
       "486    211.400000\n",
       "96     211.400000\n",
       "444    211.600000\n",
       "65     211.900000\n",
       "119    211.900000\n",
       "243    211.900000\n",
       "315    211.900000\n",
       "477    212.100000\n",
       "399    212.100000\n",
       "314    212.100000\n",
       "152    212.200000\n",
       "364    212.300000\n",
       "99     212.500000\n",
       "190    213.000000\n",
       "281    214.100000\n",
       "140    214.100000\n",
       "370    214.100000\n",
       "475    214.400000\n",
       "72     214.500000\n",
       "239    214.500000\n",
       "83     214.700000\n",
       "327    214.700000\n",
       "273    214.900000\n",
       "418    215.200000\n",
       "170    215.400000\n",
       "124    215.600000\n",
       "457    215.800000\n",
       "217    216.500000\n",
       "373    216.900000\n",
       "55     217.600000\n",
       "130    217.800000\n",
       "231    217.800000\n",
       "322    218.500000\n",
       "91     218.700000\n",
       "403    219.100000\n",
       "151    219.600000\n",
       "431    219.900000\n",
       "106    219.900000\n",
       "482    220.000000\n",
       "479    220.000000\n",
       "469    220.400000\n",
       "3      220.900000\n",
       "385    221.800000\n",
       "105    222.000000\n",
       "204    222.600000\n",
       "23     222.900000\n",
       "276    223.100000\n",
       "197    223.100000\n",
       "161    223.500000\n",
       "21     223.700000\n",
       "332    224.000000\n",
       "12     224.200000\n",
       "252    224.200000\n",
       "222    224.800000\n",
       "166    225.300000\n",
       "111    225.900000\n",
       "101    226.200000\n",
       "150    226.600000\n",
       "88     227.700000\n",
       "352    227.700000\n",
       "428    227.700000\n",
       "13     228.400000\n",
       "339    229.000000\n",
       "182    230.300000\n",
       "121    230.800000\n",
       "257    231.700000\n",
       "395    231.900000\n",
       "246    232.100000\n",
       "219    237.800000\n",
       "11     238.700000\n",
       "50     238.900000\n",
       "441    239.100000\n",
       "499    239.600000\n",
       "439    242.000000\n",
       "487    242.400000\n",
       "144    244.900000\n",
       "61     244.900000\n",
       "283    245.500000\n",
       "118    254.500000\n",
       "485    255.900000\n",
       "Name: weight, dtype: float64"
      ]
     },
     "execution_count": 68,
     "metadata": {},
     "output_type": "execute_result"
    }
   ],
   "source": [
    "patients_clean.weight.sort_values()"
   ]
  },
  {
   "cell_type": "markdown",
   "metadata": {},
   "source": [
    "# Auralin vs. Novodra: Clinical Trial Key Metrics"
   ]
  },
  {
   "cell_type": "markdown",
   "metadata": {},
   "source": [
    "#### Adverse Reactions"
   ]
  },
  {
   "cell_type": "code",
   "execution_count": 95,
   "metadata": {},
   "outputs": [],
   "source": [
    "after_adverse_reactions = treatments_clean.groupby(['treatment' , 'adverse_reaction']).patient_id.count()"
   ]
  },
  {
   "cell_type": "code",
   "execution_count": 98,
   "metadata": {},
   "outputs": [
    {
     "data": {
      "text/plain": [
       "treatment  adverse_reaction         \n",
       "auralin    cough                         1\n",
       "           headache                      1\n",
       "           hypoglycemia                 10\n",
       "           nausea                        1\n",
       "           throat irritation             2\n",
       "novodra    cough                         1\n",
       "           headache                      2\n",
       "           hypoglycemia                 10\n",
       "           injection site discomfort     6\n",
       "           nausea                        1\n",
       "Name: patient_id, dtype: int64"
      ]
     },
     "execution_count": 98,
     "metadata": {},
     "output_type": "execute_result"
    }
   ],
   "source": [
    "after_adverse_reactions"
   ]
  },
  {
   "cell_type": "code",
   "execution_count": 101,
   "metadata": {},
   "outputs": [
    {
     "data": {
      "image/png": "[encoded data removed]",
      "text/plain": [
       "<Figure size 432x288 with 1 Axes>"
      ]
     },
     "metadata": {},
     "output_type": "display_data"
    }
   ],
   "source": [
    "after_adverse_reactions.auralin.plot(kind = 'barh',\n",
    "                                    title = 'Adverse reactions Counts for Auralin',\n",
    "                                    color = 'blue');"
   ]
  },
  {
   "cell_type": "code",
   "execution_count": 103,
   "metadata": {},
   "outputs": [
    {
     "data": {
      "image/png": "[encoded data removed]",
      "text/plain": [
       "<Figure size 432x288 with 1 Axes>"
      ]
     },
     "metadata": {},
     "output_type": "display_data"
    }
   ],
   "source": [
    "after_adverse_reactions.novodra.plot(kind = 'barh',\n",
    "                                    title = 'Adverse reactions Counts for Novodra',\n",
    "                                    color = 'red');"
   ]
  },
  {
   "cell_type": "markdown",
   "metadata": {},
   "source": [
    "# Pre-trial / Post-trial Mean Insulin Dose change(IU)"
   ]
  },
  {
   "cell_type": "markdown",
   "metadata": {},
   "source": [
    "Note: insulin is measured in international units of insulin (1IU or 1u)"
   ]
  },
  {
   "cell_type": "code",
   "execution_count": 132,
   "metadata": {},
   "outputs": [],
   "source": [
    "after_mean_dose_change = treatments_clean.groupby('treatment').dose_start.mean() - \\\n",
    "treatments_clean.groupby('treatment').dose_end.mean()"
   ]
  },
  {
   "cell_type": "code",
   "execution_count": 133,
   "metadata": {},
   "outputs": [
    {
     "data": {
      "text/plain": [
       "treatment\n",
       "auralin   -8.325714\n",
       "novodra    0.385057\n",
       "dtype: float64"
      ]
     },
     "execution_count": 133,
     "metadata": {},
     "output_type": "execute_result"
    }
   ],
   "source": [
    "after_mean_dose_change"
   ]
  },
  {
   "cell_type": "code",
   "execution_count": 135,
   "metadata": {},
   "outputs": [
    {
     "data": {
      "image/png": "[encoded data removed]",
      "text/plain": [
       "<Figure size 432x288 with 1 Axes>"
      ]
     },
     "metadata": {},
     "output_type": "display_data"
    }
   ],
   "source": [
    "after_mean_dose_change.plot(kind = 'bar',\n",
    "                           title = 'Pre-trial / Post-trial Mean Insulin unit Dose Change (Units)');"
   ]
  },
  {
   "cell_type": "markdown",
   "metadata": {},
   "source": [
    "#### Auralin requires 8 more units "
   ]
  },
  {
   "cell_type": "code",
   "execution_count": 138,
   "metadata": {},
   "outputs": [
    {
     "data": {
      "text/html": [
       "<div>\n",
       "<style scoped>\n",
       "    .dataframe tbody tr th:only-of-type {\n",
       "        vertical-align: middle;\n",
       "    }\n",
       "\n",
       "    .dataframe tbody tr th {\n",
       "        vertical-align: top;\n",
       "    }\n",
       "\n",
       "    .dataframe thead th {\n",
       "        text-align: right;\n",
       "    }\n",
       "</style>\n",
       "<table border=\"1\" class=\"dataframe\">\n",
       "  <thead>\n",
       "    <tr style=\"text-align: right;\">\n",
       "      <th></th>\n",
       "      <th>given_name</th>\n",
       "      <th>surname</th>\n",
       "      <th>auralin</th>\n",
       "      <th>novodra</th>\n",
       "      <th>hba1c_start</th>\n",
       "      <th>hba1c_end</th>\n",
       "      <th>hba1c_change</th>\n",
       "    </tr>\n",
       "  </thead>\n",
       "  <tbody>\n",
       "    <tr>\n",
       "      <th>0</th>\n",
       "      <td>veronika</td>\n",
       "      <td>jindrová</td>\n",
       "      <td>41u - 48u</td>\n",
       "      <td>-</td>\n",
       "      <td>7.63</td>\n",
       "      <td>7.2</td>\n",
       "      <td>NaN</td>\n",
       "    </tr>\n",
       "  </tbody>\n",
       "</table>\n",
       "</div>"
      ],
      "text/plain": [
       "  given_name   surname    auralin novodra  hba1c_start  hba1c_end  \\\n",
       "0   veronika  jindrová  41u - 48u       -         7.63        7.2   \n",
       "\n",
       "   hba1c_change  \n",
       "0           NaN  "
      ]
     },
     "execution_count": 138,
     "metadata": {},
     "output_type": "execute_result"
    }
   ],
   "source": [
    "treatments.head(1)"
   ]
  },
  {
   "cell_type": "code",
   "execution_count": 170,
   "metadata": {},
   "outputs": [
    {
     "data": {
      "text/plain": [
       "0.3448717948717948"
      ]
     },
     "execution_count": 170,
     "metadata": {},
     "output_type": "execute_result"
    }
   ],
   "source": [
    "auralin_before = treatments.query('novodra == \"-\"').hba1c_change.mean()\n",
    "auralin_before"
   ]
  },
  {
   "cell_type": "code",
   "execution_count": 171,
   "metadata": {},
   "outputs": [
    {
     "data": {
      "text/plain": [
       "0.7147311827956988"
      ]
     },
     "execution_count": 171,
     "metadata": {},
     "output_type": "execute_result"
    }
   ],
   "source": [
    "novodra_before = treatments.query('auralin == \"-\"').hba1c_change.mean()\n",
    "novodra_before"
   ]
  },
  {
   "cell_type": "code",
   "execution_count": 163,
   "metadata": {},
   "outputs": [
    {
     "data": {
      "image/png": "[encoded data removed]",
      "text/plain": [
       "<Figure size 432x288 with 1 Axes>"
      ]
     },
     "metadata": {},
     "output_type": "display_data"
    }
   ],
   "source": [
    "locations = [1 , 2]\n",
    "heights = [auralin_before , novodra_before]\n",
    "labels = ['auralin' , 'novodra']\n",
    "plt.bar(locations , heights , tick_label = labels)\n",
    "plt.title('Pre-trial / Post-trial Mean Insulin Dose change(Unclean Data)' , fontsize = 15)\n",
    "plt.xlabel('Treatments' , fontsize = 15);"
   ]
  },
  {
   "cell_type": "markdown",
   "metadata": {},
   "source": [
    "#### Before the cleaning, there was a big difference between auralin and novodra hba1c reduction."
   ]
  },
  {
   "cell_type": "code",
   "execution_count": 172,
   "metadata": {},
   "outputs": [
    {
     "data": {
      "text/plain": [
       "treatment\n",
       "auralin    0.387657\n",
       "novodra    0.404713\n",
       "Name: hba1c_change, dtype: float64"
      ]
     },
     "execution_count": 172,
     "metadata": {},
     "output_type": "execute_result"
    }
   ],
   "source": [
    "after_describe = treatments_clean.groupby('treatment').hba1c_change.mean()\n",
    "after_describe"
   ]
  },
  {
   "cell_type": "code",
   "execution_count": 169,
   "metadata": {},
   "outputs": [
    {
     "data": {
      "image/png": "[encoded data removed]",
      "text/plain": [
       "<Figure size 432x288 with 1 Axes>"
      ]
     },
     "metadata": {},
     "output_type": "display_data"
    }
   ],
   "source": [
    "after_describe.plot(kind = 'bar')\n",
    "plt.title('Pre-trial / Post-trial Mean Insulin Dose change(Unclean Data)' , fontsize = 15)\n",
    "plt.xlabel('Treatments' , fontsize = 15);"
   ]
  },
  {
   "cell_type": "markdown",
   "metadata": {},
   "source": [
    "### Confidence interval for the difference in hba1c change After cleaning"
   ]
  },
  {
   "cell_type": "markdown",
   "metadata": {},
   "source": [
    "A \"noninferior\" difference between the two groups was predetermined as the upper limit of the confidence interval to be less than 0.4%"
   ]
  },
  {
   "cell_type": "code",
   "execution_count": 173,
   "metadata": {},
   "outputs": [
    {
     "name": "stdout",
     "output_type": "stream",
     "text": [
      "0.00047170870796254557 0.033556243765119585\n"
     ]
    }
   ],
   "source": [
    "diffs = []\n",
    "for _ in range(10000):\n",
    "    sample = treatments_clean.sample(treatments_clean.shape[0], replace=True)\n",
    "    mean_auralin = sample[sample.treatment == \"auralin\"].hba1c_change.mean()\n",
    "    mean_novodra = sample[sample.treatment == \"novodra\"].hba1c_change.mean()\n",
    "    mean_height_diff = mean_novodra - mean_auralin\n",
    "    diffs.append(mean_height_diff)\n",
    "low, high = np.percentile(diffs, 0.5), np.percentile(diffs, 99.5)\n",
    "print(low, high)"
   ]
  },
  {
   "cell_type": "markdown",
   "metadata": {},
   "source": [
    "## Upper limit is less than 0.4%. Auralin should pass the clinical trials."
   ]
  },
  {
   "cell_type": "code",
   "execution_count": null,
   "metadata": {},
   "outputs": [],
   "source": []
  }
 ],
 "metadata": {
  "kernelspec": {
   "display_name": "Python 3",
   "language": "python",
   "name": "python3"
  },
  "language_info": {
   "codemirror_mode": {
    "name": "ipython",
    "version": 3
   },
   "file_extension": ".py",
   "mimetype": "text/x-python",
   "name": "python",
   "nbconvert_exporter": "python",
   "pygments_lexer": "ipython3",
   "version": "3.7.6"
  }
 },
 "nbformat": 4,
 "nbformat_minor": 2
}
